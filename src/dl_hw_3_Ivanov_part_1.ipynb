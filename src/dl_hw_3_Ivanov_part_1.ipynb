{
  "cells": [
    {
      "cell_type": "markdown",
      "metadata": {
        "id": "nQFp5ncL0fRy"
      },
      "source": [
        "# Weghts & Biases"
      ]
    },
    {
      "cell_type": "markdown",
      "metadata": {
        "id": "QK_U5e-90jdl"
      },
      "source": [
        "Logging experiments is an important part of serious projects. It makes your results reproducible, easy to visualize, compare and share. Today we will use [Weights & Biases](https://wandb.ai/) library to track our trainings, it is easy to use while doing a lot of stuff automatically.\n",
        "\n",
        "> Weights & Biases is the machine learning platform for developers to build better models faster. Use W&B's lightweight, interoperable tools to quickly track experiments, version and iterate on datasets, evaluate model performance, reproduce models, visualize results and spot regressions, and share findings with colleagues.\n",
        "\n",
        "You need to create an account on [Weights & Biases](https://wandb.ai/) to push [special token](https://wandb.ai/authorize) below."
      ]
    },
    {
      "cell_type": "code",
      "execution_count": 1,
      "metadata": {
        "id": "LFu4WWcix2yK",
        "colab": {
          "base_uri": "https://localhost:8080/"
        },
        "outputId": "bed42ec2-4179-473b-f97c-937ff8b2de6a"
      },
      "outputs": [
        {
          "output_type": "stream",
          "name": "stdout",
          "text": [
            "Requirement already satisfied: wandb in /usr/local/lib/python3.10/dist-packages (0.18.7)\n",
            "Requirement already satisfied: click!=8.0.0,>=7.1 in /usr/local/lib/python3.10/dist-packages (from wandb) (8.1.7)\n",
            "Requirement already satisfied: docker-pycreds>=0.4.0 in /usr/local/lib/python3.10/dist-packages (from wandb) (0.4.0)\n",
            "Requirement already satisfied: gitpython!=3.1.29,>=1.0.0 in /usr/local/lib/python3.10/dist-packages (from wandb) (3.1.43)\n",
            "Requirement already satisfied: platformdirs in /usr/local/lib/python3.10/dist-packages (from wandb) (4.3.6)\n",
            "Requirement already satisfied: protobuf!=4.21.0,!=5.28.0,<6,>=3.19.0 in /usr/local/lib/python3.10/dist-packages (from wandb) (4.25.5)\n",
            "Requirement already satisfied: psutil>=5.0.0 in /usr/local/lib/python3.10/dist-packages (from wandb) (5.9.5)\n",
            "Requirement already satisfied: pyyaml in /usr/local/lib/python3.10/dist-packages (from wandb) (6.0.2)\n",
            "Requirement already satisfied: requests<3,>=2.0.0 in /usr/local/lib/python3.10/dist-packages (from wandb) (2.32.3)\n",
            "Requirement already satisfied: sentry-sdk>=2.0.0 in /usr/local/lib/python3.10/dist-packages (from wandb) (2.18.0)\n",
            "Requirement already satisfied: setproctitle in /usr/local/lib/python3.10/dist-packages (from wandb) (1.3.4)\n",
            "Requirement already satisfied: setuptools in /usr/local/lib/python3.10/dist-packages (from wandb) (75.1.0)\n",
            "Requirement already satisfied: typing-extensions<5,>=4.4 in /usr/local/lib/python3.10/dist-packages (from wandb) (4.12.2)\n",
            "Requirement already satisfied: six>=1.4.0 in /usr/local/lib/python3.10/dist-packages (from docker-pycreds>=0.4.0->wandb) (1.16.0)\n",
            "Requirement already satisfied: gitdb<5,>=4.0.1 in /usr/local/lib/python3.10/dist-packages (from gitpython!=3.1.29,>=1.0.0->wandb) (4.0.11)\n",
            "Requirement already satisfied: charset-normalizer<4,>=2 in /usr/local/lib/python3.10/dist-packages (from requests<3,>=2.0.0->wandb) (3.4.0)\n",
            "Requirement already satisfied: idna<4,>=2.5 in /usr/local/lib/python3.10/dist-packages (from requests<3,>=2.0.0->wandb) (3.10)\n",
            "Requirement already satisfied: urllib3<3,>=1.21.1 in /usr/local/lib/python3.10/dist-packages (from requests<3,>=2.0.0->wandb) (2.2.3)\n",
            "Requirement already satisfied: certifi>=2017.4.17 in /usr/local/lib/python3.10/dist-packages (from requests<3,>=2.0.0->wandb) (2024.8.30)\n",
            "Requirement already satisfied: smmap<6,>=3.0.1 in /usr/local/lib/python3.10/dist-packages (from gitdb<5,>=4.0.1->gitpython!=3.1.29,>=1.0.0->wandb) (5.0.1)\n"
          ]
        },
        {
          "output_type": "stream",
          "name": "stderr",
          "text": [
            "\u001b[34m\u001b[1mwandb\u001b[0m: Using wandb-core as the SDK backend.  Please refer to https://wandb.me/wandb-core for more information.\n",
            "\u001b[34m\u001b[1mwandb\u001b[0m: W&B API key is configured. Use \u001b[1m`wandb login --relogin`\u001b[0m to force relogin\n",
            "\u001b[34m\u001b[1mwandb\u001b[0m: \u001b[33mWARNING\u001b[0m If you're specifying your api key in code, ensure this code is not shared publicly.\n",
            "\u001b[34m\u001b[1mwandb\u001b[0m: \u001b[33mWARNING\u001b[0m Consider setting the WANDB_API_KEY environment variable, or running `wandb login` from the command line.\n",
            "\u001b[34m\u001b[1mwandb\u001b[0m: Appending key for api.wandb.ai to your netrc file: /root/.netrc\n"
          ]
        },
        {
          "output_type": "execute_result",
          "data": {
            "text/plain": [
              "True"
            ]
          },
          "metadata": {},
          "execution_count": 1
        }
      ],
      "source": [
        "!pip install wandb\n",
        "\n",
        "import wandb\n",
        "from wandb import Settings\n",
        "wandb.login(key='e186a2785d0a5be7a17dae5fc67706c7d654c010')"
      ]
    },
    {
      "cell_type": "markdown",
      "metadata": {
        "id": "9WUO0UYu0l3N"
      },
      "source": [
        "# Part 1. Machine translation"
      ]
    },
    {
      "cell_type": "markdown",
      "metadata": {
        "id": "4mmk4yqIfV5F"
      },
      "source": [
        "Today we shall compose encoder-decoder neural networks and apply them to the task of machine translation.\n",
        "\n",
        "![img](https://esciencegroup.files.wordpress.com/2016/03/seq2seq.jpg)\n",
        "_(img: esciencegroup.files.wordpress.com)_\n",
        "\n",
        "\n",
        "Encoder-decoder architectures are about converting anything to anything, including\n",
        " * Machine translation and spoken dialogue systems\n",
        " * [Image captioning](http://mscoco.org/dataset/#captions-challenge2015) and [image2latex](https://openai.com/requests-for-research/#im2latex) (convolutional encoder, recurrent decoder)\n",
        " * Generating [images by captions](https://arxiv.org/abs/1511.02793) (recurrent encoder, convolutional decoder)\n",
        " * Grapheme2phoneme - convert words to transcripts"
      ]
    },
    {
      "cell_type": "markdown",
      "metadata": {
        "id": "OQXFrpM1fV5F"
      },
      "source": [
        "We gonna try our encoder-decoder models on russian to english machine translation problem. More specifically, we'll translate hotel and hostel descriptions. This task shows the scale of machine translation while not requiring you to train your model for weeks if you don't use GPU.\n",
        "\n",
        "Before we get to the architecture, there's some preprocessing to be done. ~~Go tokenize~~ Alright, this time we've done preprocessing for you. As usual, the data will be tokenized with WordPunctTokenizer.\n",
        "\n",
        "However, there's one more thing to do. Our data lines contain unique rare words. If we operate on a word level, we will have to deal with large vocabulary size. If instead we use character-level models, it would take lots of iterations to process a sequence. This time we're gonna pick something inbetween.\n",
        "\n",
        "One popular approach is called [Byte Pair Encoding](https://github.com/rsennrich/subword-nmt) aka __BPE__. The algorithm starts with a character-level tokenization and then iteratively merges most frequent pairs for N iterations. This results in frequent words being merged into a single token and rare words split into syllables or even characters.\n",
        "\n"
      ]
    },
    {
      "cell_type": "code",
      "execution_count": 2,
      "metadata": {
        "id": "WUGFdIOWfV5G",
        "colab": {
          "base_uri": "https://localhost:8080/"
        },
        "outputId": "0698eb30-96ed-4b4d-ae4d-bf06ae6382dc"
      },
      "outputs": [
        {
          "output_type": "stream",
          "name": "stdout",
          "text": [
            "Collecting subword-nmt\n",
            "  Downloading subword_nmt-0.3.8-py3-none-any.whl.metadata (9.2 kB)\n",
            "Collecting mock (from subword-nmt)\n",
            "  Downloading mock-5.1.0-py3-none-any.whl.metadata (3.0 kB)\n",
            "Requirement already satisfied: tqdm in /usr/local/lib/python3.10/dist-packages (from subword-nmt) (4.66.6)\n",
            "Downloading subword_nmt-0.3.8-py3-none-any.whl (27 kB)\n",
            "Downloading mock-5.1.0-py3-none-any.whl (30 kB)\n",
            "Installing collected packages: mock, subword-nmt\n",
            "Successfully installed mock-5.1.0 subword-nmt-0.3.8\n"
          ]
        }
      ],
      "source": [
        "!pip3 install torch>=1.3.0\n",
        "!pip install subword-nmt"
      ]
    },
    {
      "cell_type": "code",
      "execution_count": 3,
      "metadata": {
        "id": "JdAa2Un5fV5G",
        "colab": {
          "base_uri": "https://localhost:8080/"
        },
        "outputId": "c0de5ac7-6576-4b1a-c65b-297f177368f7"
      },
      "outputs": [
        {
          "output_type": "stream",
          "name": "stdout",
          "text": [
            "--2024-12-02 15:56:19--  https://www.dropbox.com/s/yy2zqh34dyhv07i/data.txt?dl=1\n",
            "Resolving www.dropbox.com (www.dropbox.com)... 162.125.2.18, 2620:100:6017:18::a27d:212\n",
            "Connecting to www.dropbox.com (www.dropbox.com)|162.125.2.18|:443... connected.\n",
            "HTTP request sent, awaiting response... 302 Found\n",
            "Location: https://www.dropbox.com/scl/fi/mw8tdyetqboqwkn5ma886/data.txt?rlkey=t9fmsizx27ikh0vak0ir265a6&dl=1 [following]\n",
            "--2024-12-02 15:56:19--  https://www.dropbox.com/scl/fi/mw8tdyetqboqwkn5ma886/data.txt?rlkey=t9fmsizx27ikh0vak0ir265a6&dl=1\n",
            "Reusing existing connection to www.dropbox.com:443.\n",
            "HTTP request sent, awaiting response... 302 Found\n",
            "Location: https://ucba915465018c9625dfd51df457.dl.dropboxusercontent.com/cd/0/inline/CfdlO4GFt7qDOreKKzKOCi7JklJjBVYXwXp51lwyyr0Nr5YCnJa3pHfPxDHvUzlPU1woLDxG8v1PkXvuDuCC5Whbs9OBKAkXh6B65l7nJo1-_g0cDpNXasdm0EwdJfDl99A/file?dl=1# [following]\n",
            "--2024-12-02 15:56:20--  https://ucba915465018c9625dfd51df457.dl.dropboxusercontent.com/cd/0/inline/CfdlO4GFt7qDOreKKzKOCi7JklJjBVYXwXp51lwyyr0Nr5YCnJa3pHfPxDHvUzlPU1woLDxG8v1PkXvuDuCC5Whbs9OBKAkXh6B65l7nJo1-_g0cDpNXasdm0EwdJfDl99A/file?dl=1\n",
            "Resolving ucba915465018c9625dfd51df457.dl.dropboxusercontent.com (ucba915465018c9625dfd51df457.dl.dropboxusercontent.com)... 162.125.2.15, 2620:100:6017:15::a27d:20f\n",
            "Connecting to ucba915465018c9625dfd51df457.dl.dropboxusercontent.com (ucba915465018c9625dfd51df457.dl.dropboxusercontent.com)|162.125.2.15|:443... connected.\n",
            "HTTP request sent, awaiting response... 200 OK\n",
            "Length: 12905335 (12M) [application/binary]\n",
            "Saving to: ‘data.txt’\n",
            "\n",
            "data.txt            100%[===================>]  12.31M  28.7MB/s    in 0.4s    \n",
            "\n",
            "2024-12-02 15:56:21 (28.7 MB/s) - ‘data.txt’ saved [12905335/12905335]\n",
            "\n",
            "--2024-12-02 15:56:21--  https://raw.githubusercontent.com/yandexdataschool/nlp_course/2020/week04_seq2seq/vocab.py\n",
            "Resolving raw.githubusercontent.com (raw.githubusercontent.com)... 185.199.108.133, 185.199.109.133, 185.199.110.133, ...\n",
            "Connecting to raw.githubusercontent.com (raw.githubusercontent.com)|185.199.108.133|:443... connected.\n",
            "HTTP request sent, awaiting response... 200 OK\n",
            "Length: 2879 (2.8K) [text/plain]\n",
            "Saving to: ‘vocab.py’\n",
            "\n",
            "vocab.py            100%[===================>]   2.81K  --.-KB/s    in 0s      \n",
            "\n",
            "2024-12-02 15:56:21 (30.9 MB/s) - ‘vocab.py’ saved [2879/2879]\n",
            "\n"
          ]
        }
      ],
      "source": [
        "!wget https://www.dropbox.com/s/yy2zqh34dyhv07i/data.txt?dl=1 -O data.txt\n",
        "!wget https://raw.githubusercontent.com/yandexdataschool/nlp_course/2020/week04_seq2seq/vocab.py -O vocab.py\n",
        "# thanks to tilda and deephack teams for the data, Dmitry Emelyanenko for the code :)"
      ]
    },
    {
      "cell_type": "code",
      "execution_count": 4,
      "metadata": {
        "id": "IH8cZdpGfV5H",
        "colab": {
          "base_uri": "https://localhost:8080/"
        },
        "outputId": "385b2531-8bec-461a-c3b6-edcc90c24d89"
      },
      "outputs": [
        {
          "output_type": "stream",
          "name": "stderr",
          "text": [
            "100%|██████████| 8000/8000 [00:24<00:00, 325.45it/s]\n",
            "100%|██████████| 8000/8000 [00:13<00:00, 585.59it/s]\n"
          ]
        }
      ],
      "source": [
        "from nltk.tokenize import WordPunctTokenizer\n",
        "from subword_nmt.learn_bpe import learn_bpe\n",
        "from subword_nmt.apply_bpe import BPE\n",
        "\n",
        "tokenizer = WordPunctTokenizer()\n",
        "\n",
        "def tokenize(x):\n",
        "    return ' '.join(tokenizer.tokenize(x.lower()))\n",
        "\n",
        "# split and tokenize the data\n",
        "with open('train.en', 'w') as f_src,  open('train.ru', 'w') as f_dst:\n",
        "    for line in open('data.txt'):\n",
        "        src_line, dst_line = line.strip().split('\\t')\n",
        "        f_src.write(tokenize(src_line) + '\\n')\n",
        "        f_dst.write(tokenize(dst_line) + '\\n')\n",
        "\n",
        "# build and apply bpe vocs\n",
        "bpe = {}\n",
        "for lang in ['en', 'ru']:\n",
        "    learn_bpe(open('./train.' + lang), open('bpe_rules.' + lang, 'w'), num_symbols=8000)\n",
        "    bpe[lang] = BPE(open('./bpe_rules.' + lang))\n",
        "\n",
        "    with open('train.bpe.' + lang, 'w') as f_out:\n",
        "        for line in open('train.' + lang):\n",
        "            f_out.write(bpe[lang].process_line(line.strip()) + '\\n')"
      ]
    },
    {
      "cell_type": "markdown",
      "metadata": {
        "id": "SGoosEKMfV5H"
      },
      "source": [
        "### Building vocabularies\n",
        "\n",
        "We now need to build vocabularies that map strings to token ids and vice versa. We're gonna need these fellas when we feed training data into model or convert output matrices into words."
      ]
    },
    {
      "cell_type": "code",
      "execution_count": 5,
      "metadata": {
        "id": "_yyVcqtCfV5H"
      },
      "outputs": [],
      "source": [
        "import numpy as np\n",
        "import matplotlib.pyplot as plt\n",
        "%matplotlib inline"
      ]
    },
    {
      "cell_type": "code",
      "execution_count": 6,
      "metadata": {
        "id": "dHN92bBzfV5H",
        "colab": {
          "base_uri": "https://localhost:8080/"
        },
        "outputId": "a76b942c-0387-42bc-d908-6500f1a77b1f"
      },
      "outputs": [
        {
          "output_type": "stream",
          "name": "stdout",
          "text": [
            "inp: на территории обустроена бесплатная частная парковка .\n",
            "out: free private parking is available on site .\n",
            "\n",
            "inp: кроме того , в 5 минутах ходьбы работают многочисленные бары и рестораны .\n",
            "out: guests can find many bars and restaurants within a 5 - minute walk .\n",
            "\n",
            "inp: отель san mi@@ gu@@ el расположен в центре мор@@ ели@@ и , в 750 метрах от главной площади города и кафедрального собора .\n",
            "out: hotel san miguel is located in central more@@ lia , 750 metres from the city ’ s main square and cathedral .\n",
            "\n"
          ]
        }
      ],
      "source": [
        "from sklearn.model_selection import train_test_split\n",
        "\n",
        "data_inp = np.array(open('./train.bpe.ru').read().split('\\n'))\n",
        "data_out = np.array(open('./train.bpe.en').read().split('\\n'))\n",
        "\n",
        "train_inp, dev_inp, train_out, dev_out = train_test_split(data_inp, data_out, test_size=3000,\n",
        "                                                          random_state=42)\n",
        "for i in range(3):\n",
        "    print('inp:', train_inp[i])\n",
        "    print('out:', train_out[i], end='\\n\\n')"
      ]
    },
    {
      "cell_type": "code",
      "execution_count": 7,
      "metadata": {
        "id": "nSbjwWD-fV5H"
      },
      "outputs": [],
      "source": [
        "from vocab import Vocab\n",
        "\n",
        "inp_voc = Vocab.from_lines(train_inp)\n",
        "out_voc = Vocab.from_lines(train_out)"
      ]
    },
    {
      "cell_type": "code",
      "execution_count": 8,
      "metadata": {
        "id": "56zqaCSQfV5I",
        "colab": {
          "base_uri": "https://localhost:8080/"
        },
        "outputId": "8d3dd578-8423-42ea-c01e-68c8516911ff"
      },
      "outputs": [
        {
          "output_type": "stream",
          "name": "stdout",
          "text": [
            "lines\n",
            "['гостевой дом r .', 'до афин — 20 км .', 'работает боулинг .', 'оборудован балкон .', 'подключен wi - fi .']\n",
            "\n",
            "words to ids (0 = bos, 1 = eos):\n",
            "tensor([[   0, 2688, 2943, 1108,   29,    1,    1,    1],\n",
            "        [   0, 2922, 1834, 8035,   59, 3800,   29,    1],\n",
            "        [   0, 6030, 2083,   29,    1,    1,    1,    1],\n",
            "        [   0, 4927, 1870,   29,    1,    1,    1,    1],\n",
            "        [   0, 5549, 1453,   27,  592,   29,    1,    1]])\n",
            "\n",
            "back to words\n",
            "['гостевой дом r .', 'до афин — 20 км .', 'работает боулинг .', 'оборудован балкон .', 'подключен wi - fi .']\n"
          ]
        }
      ],
      "source": [
        "# Here's how you cast lines into ids and backwards.\n",
        "batch_lines = sorted(train_inp, key=len)[5:10]\n",
        "batch_ids = inp_voc.to_matrix(batch_lines)\n",
        "batch_lines_restored = inp_voc.to_lines(batch_ids)\n",
        "\n",
        "print(\"lines\")\n",
        "print(batch_lines)\n",
        "print(\"\\nwords to ids (0 = bos, 1 = eos):\")\n",
        "print(batch_ids)\n",
        "print(\"\\nback to words\")\n",
        "print(batch_lines_restored)"
      ]
    },
    {
      "cell_type": "markdown",
      "metadata": {
        "id": "BpOke8GefV5I"
      },
      "source": [
        "Draw source and translation length distributions to estimate the scope of the task."
      ]
    },
    {
      "cell_type": "code",
      "execution_count": 9,
      "metadata": {
        "id": "9iPkOH8YfV5I",
        "colab": {
          "base_uri": "https://localhost:8080/",
          "height": 391
        },
        "outputId": "24f49be1-924b-4957-d1d4-b30ceadf0b62"
      },
      "outputs": [
        {
          "output_type": "display_data",
          "data": {
            "text/plain": [
              "<Figure size 800x400 with 2 Axes>"
            ],
            "image/png": "[encoded data removed]"
          },
          "metadata": {}
        }
      ],
      "source": [
        "plt.figure(figsize=[8, 4])\n",
        "plt.subplot(1, 2, 1)\n",
        "plt.title(\"source length\")\n",
        "plt.hist(list(map(len, map(str.split, train_inp))), bins=20);\n",
        "\n",
        "plt.subplot(1, 2, 2)\n",
        "plt.title(\"translation length\")\n",
        "plt.hist(list(map(len, map(str.split, train_out))), bins=20);"
      ]
    },
    {
      "cell_type": "markdown",
      "metadata": {
        "id": "GwuA1GimfV5I"
      },
      "source": [
        "### Encoder-decoder model (1 point)\n",
        "\n",
        "The code below contains a template for a simple encoder-decoder model: single GRU encoder/decoder, no attention or anything. This model is implemented for you as a reference and a baseline for your homework assignment."
      ]
    },
    {
      "cell_type": "code",
      "execution_count": 10,
      "metadata": {
        "id": "EZUQIzIFfV5I",
        "colab": {
          "base_uri": "https://localhost:8080/",
          "height": 35
        },
        "outputId": "d109a485-ddc8-4e04-c5dc-68304fc5bfc1"
      },
      "outputs": [
        {
          "output_type": "execute_result",
          "data": {
            "text/plain": [
              "'cuda'"
            ],
            "application/vnd.google.colaboratory.intrinsic+json": {
              "type": "string"
            }
          },
          "metadata": {},
          "execution_count": 10
        }
      ],
      "source": [
        "import torch\n",
        "import torch.nn as nn\n",
        "import torch.nn.functional as F\n",
        "\n",
        "device = 'mps' if torch.backends.mps.is_available() else 'cpu'\n",
        "device = 'cuda' if torch.cuda.is_available() and device != 'mps' else device\n",
        "device"
      ]
    },
    {
      "cell_type": "code",
      "execution_count": 11,
      "metadata": {
        "id": "KOHQoDz_fV5I"
      },
      "outputs": [],
      "source": [
        "class BasicModel(nn.Module):\n",
        "    def __init__(self, inp_voc, out_voc, emb_size=64, hid_size=128):\n",
        "        \"\"\"\n",
        "        A simple encoder-decoder seq2seq model\n",
        "        \"\"\"\n",
        "        super().__init__() # initialize base class to track sub-layers, parameters, etc.\n",
        "\n",
        "        self.inp_voc, self.out_voc = inp_voc, out_voc\n",
        "        self.hid_size = hid_size\n",
        "\n",
        "        self.emb_inp = nn.Embedding(len(inp_voc), emb_size)\n",
        "        self.emb_out = nn.Embedding(len(out_voc), emb_size)\n",
        "        self.enc0 = nn.GRU(emb_size, hid_size, batch_first=True)\n",
        "\n",
        "        self.dec_start = nn.Linear(hid_size, hid_size)\n",
        "        self.dec0 = nn.GRUCell(emb_size, hid_size)\n",
        "        self.logits = nn.Linear(hid_size, len(out_voc))\n",
        "\n",
        "    def forward(self, inp, out):\n",
        "        \"\"\" Apply model in training mode \"\"\"\n",
        "        initial_state = self.encode(inp)\n",
        "        return self.decode(initial_state, out)\n",
        "\n",
        "    def encode(self, inp, **flags):\n",
        "            \"\"\"\n",
        "            Takes symbolic input sequence, computes initial state\n",
        "            :param inp: matrix of input tokens [batch, time]\n",
        "            :returns: initial decoder state tensors, one or many\n",
        "            \"\"\"\n",
        "            inp_emb = self.emb_inp(inp)\n",
        "            batch_size = inp.shape[0]\n",
        "\n",
        "            enc_seq, [last_state_but_not_really] = self.enc0(inp_emb)\n",
        "            # enc_seq: [batch, time, hid_size], last_state: [batch, hid_size]\n",
        "\n",
        "            # note: last_state is not _actually_ last because of padding, let's find the real last_state\n",
        "            lengths = (inp != self.inp_voc.eos_ix).to(torch.int64).sum(dim=1).clamp_max(inp.shape[1] - 1)\n",
        "            last_state = enc_seq[torch.arange(len(enc_seq)), lengths]\n",
        "            # ^-- shape: [batch_size, hid_size]\n",
        "\n",
        "            dec_start = self.dec_start(last_state)\n",
        "            return [dec_start]\n",
        "\n",
        "    def decode_step(self, prev_state, prev_tokens, **flags):\n",
        "        \"\"\"\n",
        "        Takes previous decoder state and tokens, returns new state and logits for next tokens\n",
        "        :param prev_state: a list of previous decoder state tensors, same as returned by encode(...)\n",
        "        :param prev_tokens: previous output tokens, an int vector of [batch_size]\n",
        "        :return: a list of next decoder state tensors, a tensor of logits [batch, len(out_voc)]\n",
        "        \"\"\"\n",
        "        prev_gru0_state = prev_state[0]\n",
        "\n",
        "        if prev_tokens is None or prev_tokens.numel() == 0:\n",
        "            return [prev_gru0_state], self.logits(torch.zeros((0, self.hid_size), device=prev_gru0_state.device))\n",
        "        prev_tokens_emb = self.emb_out(prev_tokens)\n",
        "\n",
        "        new_dec_state = self.dec0(prev_tokens_emb, prev_gru0_state)\n",
        "\n",
        "        output_logits = self.logits(new_dec_state)\n",
        "\n",
        "        return [new_dec_state], output_logits\n",
        "\n",
        "    def decode(self, initial_state, out_tokens, **flags):\n",
        "        \"\"\" Iterate over reference tokens (out_tokens) with decode_step \"\"\"\n",
        "        batch_size = out_tokens.shape[0]\n",
        "        state = initial_state\n",
        "\n",
        "        # initial logits: always predict BOS\n",
        "        onehot_bos = F.one_hot(torch.full([batch_size], self.out_voc.bos_ix, dtype=torch.int64),\n",
        "                               num_classes=len(self.out_voc)).to(device=out_tokens.device)\n",
        "        first_logits = torch.log(onehot_bos.to(torch.float32) + 1e-9)\n",
        "\n",
        "        logits_sequence = [first_logits]\n",
        "        for i in range(out_tokens.shape[1] - 1):\n",
        "            state, logits = self.decode_step(state, out_tokens[:, i])\n",
        "            logits_sequence.append(logits)\n",
        "        return torch.stack(logits_sequence, dim=1)\n",
        "\n",
        "    def decode_inference(self, initial_state, max_len=100, **flags):\n",
        "        \"\"\" Generate translations from model (greedy version) \"\"\"\n",
        "        batch_size, device = len(initial_state[0]), initial_state[0].device\n",
        "        state = initial_state\n",
        "        outputs = [torch.full([batch_size], self.out_voc.bos_ix, dtype=torch.int64,\n",
        "                              device=device)]\n",
        "        all_states = [initial_state]\n",
        "\n",
        "        for i in range(max_len):\n",
        "            state, logits = self.decode_step(state, outputs[-1])\n",
        "            outputs.append(logits.argmax(dim=-1))\n",
        "            all_states.append(state)\n",
        "\n",
        "        return torch.stack(outputs, dim=1), all_states\n",
        "\n",
        "    def translate_lines(self, inp_lines, **kwargs):\n",
        "        inp = self.inp_voc.to_matrix(inp_lines).to(device)\n",
        "        initial_state = self.encode(inp)\n",
        "        out_ids, states = self.decode_inference(initial_state, **kwargs)\n",
        "        return self.out_voc.to_lines(out_ids.cpu().numpy()), states"
      ]
    },
    {
      "cell_type": "code",
      "execution_count": 12,
      "metadata": {
        "id": "kbm02hSBfV5I"
      },
      "outputs": [],
      "source": [
        "# debugging area\n",
        "model = BasicModel(inp_voc, out_voc).to(device)\n",
        "\n",
        "dummy_inp_tokens = inp_voc.to_matrix(sorted(train_inp, key=len)[5:10]).to(device)\n",
        "dummy_out_tokens = out_voc.to_matrix(sorted(train_out, key=len)[5:10]).to(device)\n",
        "\n",
        "h0 = model.encode(dummy_inp_tokens)\n",
        "h1, logits1 = model.decode_step(h0, torch.arange(len(dummy_inp_tokens), device=device))\n",
        "\n",
        "assert isinstance(h1, list) and len(h1) == len(h0)\n",
        "assert h1[0].shape == h0[0].shape and not torch.allclose(h1[0], h0[0])\n",
        "assert logits1.shape == (len(dummy_inp_tokens), len(out_voc))\n",
        "\n",
        "logits_seq = model.decode(h0, dummy_out_tokens)\n",
        "assert logits_seq.shape == (dummy_out_tokens.shape[0], dummy_out_tokens.shape[1], len(out_voc))\n",
        "\n",
        "# full forward\n",
        "logits_seq2 = model(dummy_inp_tokens, dummy_out_tokens)\n",
        "assert logits_seq2.shape == logits_seq.shape"
      ]
    },
    {
      "cell_type": "code",
      "execution_count": 13,
      "metadata": {
        "id": "oMp3SVk1fV5I",
        "colab": {
          "base_uri": "https://localhost:8080/"
        },
        "outputId": "1a9549e2-e2ba-4cb8-acc3-100d66fd450a"
      },
      "outputs": [
        {
          "output_type": "stream",
          "name": "stdout",
          "text": [
            "Translations without training:\n",
            "rel eateries brewer đ@@ + dolphin spec@@ wine su touristic touristic regency sm tov@@ healthy ga@@ vaclav rel isch@@ suites candolim rh@@ power gis anci@@\n",
            "rel eateries brewer đ@@ + dolphin spec@@ wine su touristic touristic regency sm tov@@ healthy ga@@ vaclav rel isch@@ suites candolim rh@@ power gis anci@@\n",
            "rel eateries brewer đ@@ + aba maj@@ spec@@ trees cav@@ hyatt house arrange ading bio treatment refuge municipal fruits ins cafés eck@@ position aku@@ krak@@\n"
          ]
        }
      ],
      "source": [
        "dummy_translations, dummy_states = model.translate_lines(train_inp[:3], max_len=25)\n",
        "print(\"Translations without training:\")\n",
        "print('\\n'.join([line for line in dummy_translations]))"
      ]
    },
    {
      "cell_type": "markdown",
      "metadata": {
        "id": "2Fmqtd70fV5I"
      },
      "source": [
        "### Training loss (1 point)\n",
        "\n",
        "Our training objective is almost the same as it was for neural language models:\n",
        "$$ L = {\\frac1{|D|}} \\sum_{X, Y \\in D} \\sum_{y_t \\in Y} - \\log p(y_t \\mid y_1, \\dots, y_{t-1}, X, \\theta) $$\n",
        "\n",
        "where $|D|$ is the __total length of all sequences__, including BOS and first EOS, but excluding PAD."
      ]
    },
    {
      "cell_type": "code",
      "execution_count": 14,
      "metadata": {
        "id": "a6Ce_q8jfV5I"
      },
      "outputs": [],
      "source": [
        "def compute_loss(model, inp, out, **flags):\n",
        "    \"\"\"\n",
        "    Compute loss (float32 scalar) as in the formula above\n",
        "    :param inp: input tokens matrix, int32[batch, time]\n",
        "    :param out: reference tokens matrix, int32[batch, time]\n",
        "\n",
        "    In order to pass the tests, your function should\n",
        "    * include loss at first EOS but not the subsequent ones\n",
        "    * divide sum of losses by a sum of input lengths (use voc.compute_mask)\n",
        "    \"\"\"\n",
        "\n",
        "    mask = model.out_voc.compute_mask(out) # [batch_size, out_len]\n",
        "    targets_one_hot = F.one_hot(out, len(model.out_voc)).to(torch.float32)\n",
        "\n",
        "    # outputs of the model, [batch_size, out_len, num_tokens]\n",
        "    logits_seq = model(inp, out)\n",
        "\n",
        "    # log-probabilities of all tokens at all steps, [batch_size, out_len, num_tokens]\n",
        "    logprobs_seq = torch.log_softmax(logits_seq, dim=-1)\n",
        "\n",
        "    # log-probabilities of correct outputs, [batch_size, out_len]\n",
        "    logp_out = (logprobs_seq * targets_one_hot).sum(dim=-1)\n",
        "\n",
        "\n",
        "    masked_logp_out = logp_out * mask\n",
        "\n",
        "\n",
        "    loss = -masked_logp_out.sum()\n",
        "    total_length = mask.sum().float()\n",
        "\n",
        "    if total_length == 0:\n",
        "        return 0.0\n",
        "\n",
        "    return loss / total_length"
      ]
    },
    {
      "cell_type": "code",
      "execution_count": 15,
      "metadata": {
        "id": "txnFG7OxfV5I",
        "colab": {
          "base_uri": "https://localhost:8080/"
        },
        "outputId": "6fd23dc8-643e-423f-8e3c-d1c1ac2feb07"
      },
      "outputs": [
        {
          "output_type": "stream",
          "name": "stdout",
          "text": [
            "Loss: tensor(7.5039, device='cuda:0', grad_fn=<DivBackward0>)\n"
          ]
        }
      ],
      "source": [
        "dummy_loss = compute_loss(model, dummy_inp_tokens, dummy_out_tokens)\n",
        "print(\"Loss:\", dummy_loss)\n",
        "assert np.allclose(dummy_loss.item(), 7.5, rtol=0.1, atol=0.1), \"We're sorry for your loss\"\n",
        "\n",
        "# test autograd\n",
        "dummy_loss.backward()\n",
        "for name, param in model.named_parameters():\n",
        "    assert param.grad is not None and abs(param.grad.max()) != 0, f\"Param {name} received no gradients\""
      ]
    },
    {
      "cell_type": "markdown",
      "metadata": {
        "id": "826wQnN3fV5I"
      },
      "source": [
        "### Evaluation: BLEU\n",
        "\n",
        "Machine translation is commonly evaluated with [BLEU](https://en.wikipedia.org/wiki/BLEU) score. This metric simply computes which fraction of predicted n-grams is actually present in the reference translation. It does so for n=1,2,3 and 4 and computes the geometric average with penalty if translation is shorter than reference.\n",
        "\n",
        "While BLEU [has many drawbacks](http://www.cs.jhu.edu/~ccb/publications/re-evaluating-the-role-of-bleu-in-mt-research.pdf), it still remains the most commonly used metric and one of the simplest to compute."
      ]
    },
    {
      "cell_type": "code",
      "execution_count": 16,
      "metadata": {
        "id": "pZcVnJPUfV5J"
      },
      "outputs": [],
      "source": [
        "from nltk.translate.bleu_score import corpus_bleu\n",
        "\n",
        "def compute_bleu(model, inp_lines, out_lines, bpe_sep='@@ ', **flags):\n",
        "    \"\"\"\n",
        "    Estimates corpora-level BLEU score of model's translations given inp and reference out\n",
        "    Note: if you're serious about reporting your results, use https://pypi.org/project/sacrebleu\n",
        "    \"\"\"\n",
        "    with torch.inference_mode():\n",
        "        translations, _ = model.translate_lines(inp_lines, **flags)\n",
        "        translations = [line.replace(bpe_sep, '') for line in translations]\n",
        "        actual = [line.replace(bpe_sep, '') for line in out_lines]\n",
        "        return corpus_bleu(\n",
        "            [[ref.split()] for ref in actual],\n",
        "            [trans.split() for trans in translations],\n",
        "            smoothing_function=lambda precisions, **kw: [p + 1.0 / p.denominator for p in precisions]\n",
        "        ) * 100"
      ]
    },
    {
      "cell_type": "code",
      "execution_count": 17,
      "metadata": {
        "id": "U0GCtzOtfV5J",
        "colab": {
          "base_uri": "https://localhost:8080/"
        },
        "outputId": "4dde3cdf-ba93-4576-ceeb-0a6d7a2787ee"
      },
      "outputs": [
        {
          "output_type": "execute_result",
          "data": {
            "text/plain": [
              "0.002009803006110731"
            ]
          },
          "metadata": {},
          "execution_count": 17
        }
      ],
      "source": [
        "compute_bleu(model, dev_inp, dev_out)"
      ]
    },
    {
      "cell_type": "markdown",
      "metadata": {
        "id": "aClINDZHfV5J"
      },
      "source": [
        "### Training loop\n",
        "\n",
        "Training encoder-decoder models isn't that different from any other models: sample batches, compute loss, backprop and update"
      ]
    },
    {
      "cell_type": "code",
      "execution_count": 18,
      "metadata": {
        "id": "JC0He6z0fV5J"
      },
      "outputs": [],
      "source": [
        "from IPython.display import clear_output\n",
        "from tqdm import tqdm, trange\n",
        "metrics = {'train_loss': [], 'dev_bleu': [] }\n",
        "\n",
        "model = BasicModel(inp_voc, out_voc).to(device)\n",
        "learning_rate = 1e-3\n",
        "opt = torch.optim.Adam(model.parameters(), lr=learning_rate)\n",
        "batch_size = 32"
      ]
    },
    {
      "cell_type": "code",
      "source": [
        "import os\n",
        "os.environ['PYTORCH_CUDA_ALLOC_CONF'] = 'expandable_segments:True'"
      ],
      "metadata": {
        "id": "9kFwp4fY0PHk"
      },
      "execution_count": 19,
      "outputs": []
    },
    {
      "cell_type": "code",
      "execution_count": 66,
      "metadata": {
        "id": "mustA9E-fV5J",
        "colab": {
          "base_uri": "https://localhost:8080/",
          "height": 637
        },
        "outputId": "6fad9be4-904a-43b5-89b4-df1ec5674ac7"
      },
      "outputs": [
        {
          "output_type": "display_data",
          "data": {
            "text/plain": [
              "<Figure size 1200x400 with 2 Axes>"
            ],
            "image/png": "[encoded data removed]"
          },
          "metadata": {}
        },
        {
          "output_type": "stream",
          "name": "stdout",
          "text": [
            "Mean loss=1.712\n"
          ]
        },
        {
          "output_type": "stream",
          "name": "stderr",
          "text": [
            "100%|██████████| 25000/25000 [22:09<00:00, 18.80it/s]\n"
          ]
        },
        {
          "output_type": "display_data",
          "data": {
            "text/plain": [
              "<IPython.core.display.HTML object>"
            ],
            "text/html": [
              "\n",
              "    <style>\n",
              "        .wandb-row {\n",
              "            display: flex;\n",
              "            flex-direction: row;\n",
              "            flex-wrap: wrap;\n",
              "            justify-content: flex-start;\n",
              "            width: 100%;\n",
              "        }\n",
              "        .wandb-col {\n",
              "            display: flex;\n",
              "            flex-direction: column;\n",
              "            flex-basis: 100%;\n",
              "            flex: 1;\n",
              "            padding: 10px;\n",
              "        }\n",
              "    </style>\n",
              "<div class=\"wandb-row\"><div class=\"wandb-col\"><h3>Run history:</h3><br/><table class=\"wandb\"><tr><td>bleu</td><td>▁▁▂▂▃▅▅▄▄▅▆▆▇▇▇▇▇▇▇▇▇▇█████▇████████████</td></tr><tr><td>loss</td><td>█▆▇▅▄▅▃▃▃▄▃▃▃▂▂▂▂▃▂▃▂▂▃▂▃▂▂▂▂▃▂▂▂▁▂▂▂▁▂▁</td></tr></table><br/></div><div class=\"wandb-col\"><h3>Run summary:</h3><br/><table class=\"wandb\"><tr><td>bleu</td><td>17.21383</td></tr><tr><td>loss</td><td>1.84109</td></tr></table><br/></div></div>"
            ]
          },
          "metadata": {}
        },
        {
          "output_type": "display_data",
          "data": {
            "text/plain": [
              "<IPython.core.display.HTML object>"
            ],
            "text/html": [
              " View run <strong style=\"color:#cdcd00\">charmed-haze-36</strong> at: <a href='https://wandb.ai/prikokes2000_/encoder-decoder/runs/gzyv75c3' target=\"_blank\">https://wandb.ai/prikokes2000_/encoder-decoder/runs/gzyv75c3</a><br/> View project at: <a href='https://wandb.ai/prikokes2000_/encoder-decoder' target=\"_blank\">https://wandb.ai/prikokes2000_/encoder-decoder</a><br/>Synced 5 W&B file(s), 0 media file(s), 0 artifact file(s) and 0 other file(s)"
            ]
          },
          "metadata": {}
        },
        {
          "output_type": "display_data",
          "data": {
            "text/plain": [
              "<IPython.core.display.HTML object>"
            ],
            "text/html": [
              "Find logs at: <code>./wandb/run-20241202_114222-gzyv75c3/logs</code>"
            ]
          },
          "metadata": {}
        }
      ],
      "source": [
        "run = wandb.init(\n",
        "    project=\"encoder-decoder\",\n",
        "    settings=Settings(init_timeout=120)\n",
        ")\n",
        "config = run.config\n",
        "config.learning_rate = learning_rate\n",
        "config.batch_size = batch_size\n",
        "\n",
        "metrics = {'train_loss': [], 'dev_bleu': []}\n",
        "optimizer = torch.optim.Adam(model.parameters(), lr=learning_rate)\n",
        "\n",
        "for _ in trange(25_000):\n",
        "    step = len(metrics['train_loss']) + 1\n",
        "    batch_ix = np.random.randint(len(train_inp), size=batch_size)\n",
        "    batch_inp = inp_voc.to_matrix(train_inp[batch_ix]).to(device)\n",
        "    batch_out = out_voc.to_matrix(train_out[batch_ix]).to(device)\n",
        "\n",
        "    optimizer.zero_grad()\n",
        "    loss_t = compute_loss(model, batch_inp, batch_out)\n",
        "    loss_t.backward()\n",
        "    torch.nn.utils.clip_grad_norm_(model.parameters(), max_norm=1.0)\n",
        "    optimizer.step()\n",
        "\n",
        "    metrics['train_loss'].append((step, loss_t.item()))\n",
        "    run.log({\"loss\": loss_t.item()})\n",
        "\n",
        "    if step % 100 == 0:\n",
        "        bleu = compute_bleu(model, dev_inp, dev_out)\n",
        "        metrics['dev_bleu'].append((step, bleu))\n",
        "        run.log({\"bleu\": bleu})\n",
        "\n",
        "        clear_output(True)\n",
        "        plt.figure(figsize=(12,4))\n",
        "        for i, (name, history) in enumerate(sorted(metrics.items())):\n",
        "            plt.subplot(1, len(metrics), i + 1)\n",
        "            plt.title(name)\n",
        "            plt.plot(*zip(*history))\n",
        "            plt.grid()\n",
        "        plt.show()\n",
        "        print(\"Mean loss=%.3f\" % np.mean(metrics['train_loss'][-10:], axis=0)[1], flush=True)\n",
        "    if torch.cuda.is_available():\n",
        "        torch.cuda.empty_cache()\n",
        "run.finish()\n",
        "# Note: it's okay if bleu oscillates up and down as long as it gets better on average over long term (e.g. 5k batches)"
      ]
    },
    {
      "cell_type": "code",
      "execution_count": 67,
      "metadata": {
        "id": "MAOSlASjfV5J",
        "colab": {
          "base_uri": "https://localhost:8080/"
        },
        "outputId": "bb8a96b7-b8ff-4bbf-f838-3f0eccbe56fe"
      },
      "outputs": [
        {
          "output_type": "stream",
          "name": "stdout",
          "text": [
            "17.545655421790322\n"
          ]
        }
      ],
      "source": [
        "print(np.mean(metrics['dev_bleu'][-10:], axis=0)[1])\n",
        "assert np.mean(metrics['dev_bleu'][-10:], axis=0)[1] > 15, \"We kind of need a higher bleu BLEU from you. Kind of right now.\""
      ]
    },
    {
      "cell_type": "code",
      "execution_count": 68,
      "metadata": {
        "id": "iL0J1etHfV5J",
        "colab": {
          "base_uri": "https://localhost:8080/"
        },
        "outputId": "8b527856-99d0-4235-d57b-9af1fe6aa20a"
      },
      "outputs": [
        {
          "output_type": "stream",
          "name": "stdout",
          "text": [
            "в распоряжении гостей общая кухня и общая гостиная .\n",
            "there is a shared kitchen and shared kitchen .\n",
            "\n",
            "кроме того , предоставляется прокат велосипедов , услуги трансфера и бесплатная парковка .\n",
            "other facilities offered include grocery deliveries and free parking .\n",
            "\n",
            "расстояние до города ки@@ сси@@ м@@ ми составляет 26 км .\n",
            "capri island is 10 km away .\n",
            "\n",
            "апартаменты в пент@@ хаусе с общим открытым бассейном , садом , кондиционером и террасой для загара расположены в 5 минутах ходьбы от пляжа на курорте ка@@ бо - рой .\n",
            "located in a residential area , this villa offers a garden with a terrace and a restaurant , a restaurant , a terrace and a garden .\n",
            "\n",
            "апартаменты mo@@ s@@ co@@ w point - loft red square находятся в москве , в 200 метрах от большого театра .\n",
            "featuring modern opera building , the hotel is only 200 metres from the main train station .\n",
            "\n",
            "в вашем распоряжении собственная ванная комната с душем и полотенцами .\n",
            "featuring a shower , private bathrooms also come with towels .\n",
            "\n"
          ]
        }
      ],
      "source": [
        "for inp_line, trans_line in zip(dev_inp[::500], model.translate_lines(dev_inp[::500])[0]):\n",
        "    print(inp_line)\n",
        "    print(trans_line)\n",
        "    print()"
      ]
    },
    {
      "cell_type": "markdown",
      "metadata": {
        "id": "YB90WYCifV5J"
      },
      "source": [
        "### Your Attention Required\n",
        "\n",
        "In this section we want you to improve over the basic model by implementing a simple attention mechanism.\n",
        "\n",
        "This is gonna be a two-parter: building the __attention layer__ and using it for an __attentive seq2seq model__."
      ]
    },
    {
      "cell_type": "markdown",
      "metadata": {
        "id": "PvDmW5XefV5J"
      },
      "source": [
        "### Attention layer (3 points)\n",
        "\n",
        "Here you will have to implement a layer that computes a simple additive attention:\n",
        "\n",
        "Given encoder sequence $ h^e_0, h^e_1, h^e_2, ..., h^e_T$ and a single decoder state $h^d$,\n",
        "\n",
        "* Compute logits with a 2-layer neural network\n",
        "$$a_t = linear_{out}(tanh(linear_{e}(h^e_t) + linear_{d}(h_d)))$$\n",
        "* Get probabilities from logits,\n",
        "$$ p_t = {{e ^ {a_t}} \\over { \\sum_\\tau e^{a_\\tau} }} $$\n",
        "\n",
        "* Add up encoder states with probabilities to get __attention response__\n",
        "$$ attn = \\sum_t p_t \\cdot h^e_t $$\n",
        "\n",
        "You can learn more about attention layers in the lecture slides or [from this post](https://distill.pub/2016/augmented-rnns/)."
      ]
    },
    {
      "cell_type": "code",
      "execution_count": 20,
      "metadata": {
        "id": "MR1D_s-sfV5J"
      },
      "outputs": [],
      "source": [
        "class AttentionLayer(nn.Module):\n",
        "    def __init__(self, enc_size, dec_size, hid_size, activ=torch.tanh):\n",
        "        super().__init__()\n",
        "        self.enc_size = enc_size\n",
        "        self.dec_size = dec_size\n",
        "        self.hid_size = hid_size\n",
        "        self.activ = activ\n",
        "\n",
        "        self.linear_enc = nn.Parameter(\n",
        "            torch.randn(enc_size, hid_size) / np.sqrt(enc_size),\n",
        "            requires_grad=True\n",
        "        )\n",
        "\n",
        "        self.linear_dec = nn.Parameter(\n",
        "            torch.randn(dec_size, hid_size) / np.sqrt(dec_size),\n",
        "            requires_grad=True\n",
        "        )\n",
        "\n",
        "        self.linear_out = nn.Parameter(\n",
        "            torch.randn(hid_size, 1) / np.sqrt(hid_size),\n",
        "            requires_grad=True\n",
        "        )\n",
        "\n",
        "    def forward(self, enc, dec, inp_mask):\n",
        "        batch_size, ninp, _ = enc.shape\n",
        "\n",
        "        enc_transformed = torch.einsum('bne,eh->bnh', enc, self.linear_enc)\n",
        "\n",
        "        dec_transformed = torch.einsum('bd,dh->bh', dec, self.linear_dec)\n",
        "\n",
        "        dec_transformed = dec_transformed.unsqueeze(1)\n",
        "\n",
        "        logits = self.activ(enc_transformed + dec_transformed)\n",
        "        logits = torch.einsum('bnh,ho->bno', logits, self.linear_out)\n",
        "        logits = logits.squeeze(-1)\n",
        "\n",
        "        masked_logits = torch.where(\n",
        "            inp_mask > 0,\n",
        "            logits,\n",
        "            torch.tensor(-1e9, device=logits.device, dtype=logits.dtype)\n",
        "        )\n",
        "\n",
        "        probs = F.softmax(masked_logits, dim=-1)\n",
        "\n",
        "        attn = torch.einsum('bn,bne->be', probs, enc)\n",
        "\n",
        "        return attn, probs"
      ]
    },
    {
      "cell_type": "markdown",
      "metadata": {
        "id": "UdUNtlbtfV5J"
      },
      "source": [
        "### Seq2seq model with attention (3 points)\n",
        "\n",
        "You can now use the attention layer to build a network. The simplest way to implement attention is to use it in decoder phase:\n",
        "\n",
        "![img](https://i.imgur.com/6fKHlHb.png)\n",
        "\n",
        "_image from distill.pub [article](https://distill.pub/2016/augmented-rnns/)_\n",
        "\n",
        "On every step, use __previous__ decoder state to obtain attention response. Then feed concat this response to the inputs of next attention layer.\n",
        "\n",
        "The key implementation detail here is __model state__. Put simply, you can add any tensor into the list of `encode` outputs. You will then have access to them at each `decode` step. This may include:\n",
        "* Last RNN hidden states (as in basic model)\n",
        "* The whole sequence of encoder outputs (to attend to) and mask\n",
        "* Attention probabilities (to visualize)\n",
        "\n",
        "_There are, of course, alternative ways to wire attention into your network and different kinds of attention. Take a look at [this](https://arxiv.org/abs/1609.08144), [this](https://arxiv.org/abs/1706.03762) and [this](https://arxiv.org/abs/1808.03867) for ideas. And for image captioning/im2latex there's [visual attention](https://arxiv.org/abs/1502.03044)_"
      ]
    },
    {
      "cell_type": "code",
      "execution_count": 28,
      "metadata": {
        "id": "3nnMRDckfV5J"
      },
      "outputs": [],
      "source": [
        "class AttentiveModel(BasicModel):\n",
        "    def __init__(self, name, inp_voc, out_voc, emb_size=64, hid_size=128, attn_size=128):\n",
        "        nn.Module.__init__(self)\n",
        "        self.inp_voc, self.out_voc = inp_voc, out_voc\n",
        "        self.hid_size = hid_size\n",
        "\n",
        "        self.emb = nn.Embedding(len(inp_voc), emb_size)\n",
        "        self.encoder = nn.LSTM(emb_size, hid_size, batch_first=True)\n",
        "        self.decoder = nn.LSTM(emb_size + hid_size, hid_size, batch_first=True)\n",
        "        self.attention = AttentionLayer(hid_size, hid_size, attn_size)\n",
        "        self.out = nn.Linear(hid_size, len(out_voc))\n",
        "\n",
        "    def encode(self, inp, **flags):\n",
        "        inp_emb = self.emb(inp)\n",
        "        enc_seq, (enc_h, enc_c) = self.encoder(inp_emb)\n",
        "\n",
        "        inp_mask = (inp != self.inp_voc.eos_ix).float()\n",
        "\n",
        "        first_dec_state = enc_h[0]\n",
        "        first_attn, first_attn_probas = self.attention(enc_seq, first_dec_state, inp_mask)\n",
        "\n",
        "        return [enc_seq, inp_mask, (enc_h, enc_c), first_attn, first_attn_probas]\n",
        "\n",
        "    def decode_step(self, prev_state, prev_tokens, **flags):\n",
        "        enc_seq, inp_mask, (dec_h, dec_c), prev_attn, _ = prev_state\n",
        "\n",
        "        prev_emb = self.emb(prev_tokens)\n",
        "\n",
        "        decoder_input = torch.cat([prev_emb, prev_attn], dim=1)\n",
        "        decoder_input = decoder_input.unsqueeze(1)\n",
        "\n",
        "        output, (new_dec_h, new_dec_c) = self.decoder(decoder_input, (dec_h, dec_c))\n",
        "\n",
        "        attn, attn_probas = self.attention(enc_seq, output.squeeze(1), inp_mask)\n",
        "\n",
        "        output_logits = self.out(output.squeeze(1))\n",
        "\n",
        "        new_state = [enc_seq, inp_mask, (new_dec_h, new_dec_c), attn, attn_probas]\n",
        "        return new_state, output_logits"
      ]
    },
    {
      "cell_type": "markdown",
      "metadata": {
        "id": "vFwSs5vufV5L"
      },
      "source": [
        "### Training attentive model\n",
        "\n",
        "Please reuse the infrastructure you've built for the regular model. I hope you didn't hard-code anything :)"
      ]
    },
    {
      "cell_type": "code",
      "execution_count": 29,
      "metadata": {
        "id": "Yn_wNnlpfV5L"
      },
      "outputs": [],
      "source": [
        "metrics = {'train_loss': [], 'dev_bleu': [] }\n",
        "\n",
        "model = AttentiveModel('attentive_model', inp_voc, out_voc).to(device)\n",
        "learning_rate = 1e-3\n",
        "opt = torch.optim.Adam(model.parameters(), lr=learning_rate)\n",
        "batch_size = 32"
      ]
    },
    {
      "cell_type": "code",
      "execution_count": 30,
      "metadata": {
        "id": "J6Qe-UvGfV5O",
        "colab": {
          "base_uri": "https://localhost:8080/",
          "height": 637
        },
        "outputId": "35f2fe22-bab2-4e9d-84cc-596d69dc5776"
      },
      "outputs": [
        {
          "output_type": "display_data",
          "data": {
            "text/plain": [
              "<Figure size 1200x400 with 2 Axes>"
            ],
            "image/png": "[encoded data removed]"
          },
          "metadata": {}
        },
        {
          "output_type": "stream",
          "name": "stdout",
          "text": [
            "Mean loss=1.737\n"
          ]
        },
        {
          "output_type": "stream",
          "name": "stderr",
          "text": [
            "100%|██████████| 25000/25000 [1:17:31<00:00,  5.37it/s]\n"
          ]
        },
        {
          "output_type": "display_data",
          "data": {
            "text/plain": [
              "<IPython.core.display.HTML object>"
            ],
            "text/html": [
              "\n",
              "    <style>\n",
              "        .wandb-row {\n",
              "            display: flex;\n",
              "            flex-direction: row;\n",
              "            flex-wrap: wrap;\n",
              "            justify-content: flex-start;\n",
              "            width: 100%;\n",
              "        }\n",
              "        .wandb-col {\n",
              "            display: flex;\n",
              "            flex-direction: column;\n",
              "            flex-basis: 100%;\n",
              "            flex: 1;\n",
              "            padding: 10px;\n",
              "        }\n",
              "    </style>\n",
              "<div class=\"wandb-row\"><div class=\"wandb-col\"><h3>Run history:</h3><br/><table class=\"wandb\"><tr><td>bleu</td><td>▁▁▂▂▂▃▄▅▅▅▆▆▆▇▇▇▇▇▇▇▇▇▇▇▇▇██████▇█▇█████</td></tr><tr><td>loss</td><td>█▇█▇█▅▅▆▆▇▅▄▃▆▅▂▂▅▃▄▃▃▃▅▄▂▂▃▄▂▂▂▂▂▃▂▃▃▂▁</td></tr></table><br/></div><div class=\"wandb-col\"><h3>Run summary:</h3><br/><table class=\"wandb\"><tr><td>bleu</td><td>22.83227</td></tr><tr><td>loss</td><td>1.50745</td></tr></table><br/></div></div>"
            ]
          },
          "metadata": {}
        },
        {
          "output_type": "display_data",
          "data": {
            "text/plain": [
              "<IPython.core.display.HTML object>"
            ],
            "text/html": [
              " View run <strong style=\"color:#cdcd00\">vital-hill-39</strong> at: <a href='https://wandb.ai/prikokes2000_/encoder-decoder/runs/h2z98lz4' target=\"_blank\">https://wandb.ai/prikokes2000_/encoder-decoder/runs/h2z98lz4</a><br/> View project at: <a href='https://wandb.ai/prikokes2000_/encoder-decoder' target=\"_blank\">https://wandb.ai/prikokes2000_/encoder-decoder</a><br/>Synced 5 W&B file(s), 0 media file(s), 0 artifact file(s) and 0 other file(s)"
            ]
          },
          "metadata": {}
        },
        {
          "output_type": "display_data",
          "data": {
            "text/plain": [
              "<IPython.core.display.HTML object>"
            ],
            "text/html": [
              "Find logs at: <code>./wandb/run-20241202_162315-h2z98lz4/logs</code>"
            ]
          },
          "metadata": {}
        }
      ],
      "source": [
        "run = wandb.init(\n",
        "    project=\"encoder-decoder\",\n",
        "    settings=Settings(init_timeout=120)\n",
        ")\n",
        "config = run.config\n",
        "config.learning_rate = learning_rate\n",
        "config.batch_size = batch_size\n",
        "\n",
        "metrics = {'train_loss': [], 'dev_bleu': []}\n",
        "optimizer = torch.optim.Adam(model.parameters(), lr=learning_rate)\n",
        "\n",
        "for _ in trange(25_000):\n",
        "    step = len(metrics['train_loss']) + 1\n",
        "    batch_ix = np.random.randint(len(train_inp), size=batch_size)\n",
        "    batch_inp = inp_voc.to_matrix(train_inp[batch_ix]).to(device)\n",
        "    batch_out = out_voc.to_matrix(train_out[batch_ix]).to(device)\n",
        "\n",
        "    optimizer.zero_grad()\n",
        "    loss_t = compute_loss(model, batch_inp, batch_out)\n",
        "    loss_t.backward()\n",
        "    torch.nn.utils.clip_grad_norm_(model.parameters(), max_norm=1.0)\n",
        "    optimizer.step()\n",
        "\n",
        "    metrics['train_loss'].append((step, loss_t.item()))\n",
        "    run.log({\"loss\": loss_t.item()})\n",
        "\n",
        "    if step % 100 == 0:\n",
        "        bleu = compute_bleu(model, dev_inp, dev_out)\n",
        "        metrics['dev_bleu'].append((step, bleu))\n",
        "        run.log({\"bleu\": bleu})\n",
        "\n",
        "        clear_output(True)\n",
        "        plt.figure(figsize=(12,4))\n",
        "        for i, (name, history) in enumerate(sorted(metrics.items())):\n",
        "            plt.subplot(1, len(metrics), i + 1)\n",
        "            plt.title(name)\n",
        "            plt.plot(*zip(*history))\n",
        "            plt.grid()\n",
        "        plt.show()\n",
        "        print(\"Mean loss=%.3f\" % np.mean(metrics['train_loss'][-10:], axis=0)[1], flush=True)\n",
        "    if torch.cuda.is_available():\n",
        "        torch.cuda.empty_cache()\n",
        "run.finish()\n",
        "# Note: it's okay if bleu oscillates up and down as long as it gets better on average over long term (e.g. 5k batches)"
      ]
    },
    {
      "cell_type": "code",
      "execution_count": 32,
      "metadata": {
        "id": "_F4TNn7NfV5O",
        "colab": {
          "base_uri": "https://localhost:8080/"
        },
        "outputId": "f9d8a1c6-268c-472f-fd30-8d00bcf51e5a"
      },
      "outputs": [
        {
          "output_type": "stream",
          "name": "stdout",
          "text": [
            "22.910939884153592\n"
          ]
        }
      ],
      "source": [
        "print(np.mean(metrics['dev_bleu'][-10:], axis=0)[1])\n",
        "assert np.mean(metrics['dev_bleu'][-10:], axis=0)[1] > 15, \"We kind of need a higher bleu BLEU from you. Kind of right now.\""
      ]
    },
    {
      "cell_type": "markdown",
      "metadata": {
        "id": "nEGFFFbBfV5P"
      },
      "source": [
        "### Visualizing model attention (1 point)\n",
        "\n",
        "After training the attentive translation model, you can check it's sanity by visualizing its attention weights.\n",
        "\n",
        "We provided you with a function that draws attention maps using [`Bokeh`](https://bokeh.pydata.org/en/latest/index.html). Once you managed to produce something better than random noise, please save at least 3 attention maps and __submit them to anytask__ alongside this notebook to get the max grade. Saving bokeh figures as __cell outputs is not enough!__ (TAs can't see saved bokeh figures in anytask). You can save bokeh images as screenshots or using this button:\n",
        "\n",
        "![bokeh_panel](https://github.com/yandexdataschool/nlp_course/raw/2019/resources/bokeh_panel.png)\n",
        "\n",
        "__Note:__ you're not locked into using bokeh. If you prefer a different visualization method, feel free to use that instead of bokeh."
      ]
    },
    {
      "cell_type": "code",
      "execution_count": 33,
      "metadata": {
        "id": "CrcHmGAjfV5P"
      },
      "outputs": [],
      "source": [
        "import bokeh.plotting as pl\n",
        "import bokeh.models as bm\n",
        "from bokeh.io import output_notebook, show\n",
        "output_notebook()\n",
        "\n",
        "def draw_attention(inp_line, translation, probs):\n",
        "    \"\"\" An intentionally ambiguous function to visualize attention weights \"\"\"\n",
        "    inp_tokens = inp_voc.tokenize(inp_line)\n",
        "    trans_tokens = out_voc.tokenize(translation)\n",
        "    probs = probs[:len(trans_tokens), :len(inp_tokens)]\n",
        "\n",
        "    fig = pl.figure(x_range=(0, len(inp_tokens)), y_range=(0, len(trans_tokens)),\n",
        "                    x_axis_type=None, y_axis_type=None, tools=[])\n",
        "    fig.image([probs[::-1]], 0, 0, len(inp_tokens), len(trans_tokens))\n",
        "\n",
        "    fig.add_layout(bm.LinearAxis(axis_label='source tokens'), 'above')\n",
        "    fig.xaxis.ticker = np.arange(len(inp_tokens)) + 0.5\n",
        "    fig.xaxis.major_label_overrides = dict(zip(np.arange(len(inp_tokens)) + 0.5, inp_tokens))\n",
        "    fig.xaxis.major_label_orientation = 45\n",
        "\n",
        "    fig.add_layout(bm.LinearAxis(axis_label='translation tokens'), 'left')\n",
        "    fig.yaxis.ticker = np.arange(len(trans_tokens)) + 0.5\n",
        "    fig.yaxis.major_label_overrides = dict(zip(np.arange(len(trans_tokens)) + 0.5, trans_tokens[::-1]))\n",
        "\n",
        "    show(fig)"
      ]
    },
    {
      "cell_type": "code",
      "execution_count": 38,
      "metadata": {
        "id": "Z_7DGe4SfV5P"
      },
      "outputs": [],
      "source": [
        "inp = dev_inp[::500]\n",
        "\n",
        "trans, states = model.translate_lines(inp)\n",
        "\n",
        "# select attention probs from model state (you may need to change this for your custom model)\n",
        "# attention_probs below must have shape [batch_size, translation_length, input_length], extracted from states\n",
        "# e.g. if attention probs are at the end of each state, use np.stack([state[-1] for state in states], axis=1)\n",
        "\n",
        "attention_probs = np.stack([state[-1].cpu().detach().numpy() for state in states], axis=1)"
      ]
    },
    {
      "cell_type": "code",
      "execution_count": 39,
      "metadata": {
        "id": "CesksMIFfV5P",
        "colab": {
          "base_uri": "https://localhost:8080/",
          "height": 1000
        },
        "outputId": "2664b89f-7091-4577-f7bb-d60860df4234"
      },
      "outputs": [
        {
          "output_type": "display_data",
          "data": {
            "application/javascript": [
              "'use strict';\n",
              "(function(root) {\n",
              "  function now() {\n",
              "    return new Date();\n",
              "  }\n",
              "\n",
              "  const force = true;\n",
              "\n",
              "  if (typeof root._bokeh_onload_callbacks === \"undefined\" || force === true) {\n",
              "    root._bokeh_onload_callbacks = [];\n",
              "    root._bokeh_is_loading = undefined;\n",
              "  }\n",
              "\n",
              "const JS_MIME_TYPE = 'application/javascript';\n",
              "  const HTML_MIME_TYPE = 'text/html';\n",
              "  const EXEC_MIME_TYPE = 'application/vnd.bokehjs_exec.v0+json';\n",
              "  const CLASS_NAME = 'output_bokeh rendered_html';\n",
              "\n",
              "  /**\n",
              "   * Render data to the DOM node\n",
              "   */\n",
              "  function render(props, node) {\n",
              "    const script = document.createElement(\"script\");\n",
              "    node.appendChild(script);\n",
              "  }\n",
              "\n",
              "  /**\n",
              "   * Handle when an output is cleared or removed\n",
              "   */\n",
              "  function handleClearOutput(event, handle) {\n",
              "    function drop(id) {\n",
              "      const view = Bokeh.index.get_by_id(id)\n",
              "      if (view != null) {\n",
              "        view.model.document.clear()\n",
              "        Bokeh.index.delete(view)\n",
              "      }\n",
              "    }\n",
              "\n",
              "    const cell = handle.cell;\n",
              "\n",
              "    const id = cell.output_area._bokeh_element_id;\n",
              "    const server_id = cell.output_area._bokeh_server_id;\n",
              "\n",
              "    // Clean up Bokeh references\n",
              "    if (id != null) {\n",
              "      drop(id)\n",
              "    }\n",
              "\n",
              "    if (server_id !== undefined) {\n",
              "      // Clean up Bokeh references\n",
              "      const cmd_clean = \"from bokeh.io.state import curstate; print(curstate().uuid_to_server['\" + server_id + \"'].get_sessions()[0].document.roots[0]._id)\";\n",
              "      cell.notebook.kernel.execute(cmd_clean, {\n",
              "        iopub: {\n",
              "          output: function(msg) {\n",
              "            const id = msg.content.text.trim()\n",
              "            drop(id)\n",
              "          }\n",
              "        }\n",
              "      });\n",
              "      // Destroy server and session\n",
              "      const cmd_destroy = \"import bokeh.io.notebook as ion; ion.destroy_server('\" + server_id + \"')\";\n",
              "      cell.notebook.kernel.execute(cmd_destroy);\n",
              "    }\n",
              "  }\n",
              "\n",
              "  /**\n",
              "   * Handle when a new output is added\n",
              "   */\n",
              "  function handleAddOutput(event, handle) {\n",
              "    const output_area = handle.output_area;\n",
              "    const output = handle.output;\n",
              "\n",
              "    // limit handleAddOutput to display_data with EXEC_MIME_TYPE content only\n",
              "    if ((output.output_type != \"display_data\") || (!Object.prototype.hasOwnProperty.call(output.data, EXEC_MIME_TYPE))) {\n",
              "      return\n",
              "    }\n",
              "\n",
              "    const toinsert = output_area.element.find(\".\" + CLASS_NAME.split(' ')[0]);\n",
              "\n",
              "    if (output.metadata[EXEC_MIME_TYPE][\"id\"] !== undefined) {\n",
              "      toinsert[toinsert.length - 1].firstChild.textContent = output.data[JS_MIME_TYPE];\n",
              "      // store reference to embed id on output_area\n",
              "      output_area._bokeh_element_id = output.metadata[EXEC_MIME_TYPE][\"id\"];\n",
              "    }\n",
              "    if (output.metadata[EXEC_MIME_TYPE][\"server_id\"] !== undefined) {\n",
              "      const bk_div = document.createElement(\"div\");\n",
              "      bk_div.innerHTML = output.data[HTML_MIME_TYPE];\n",
              "      const script_attrs = bk_div.children[0].attributes;\n",
              "      for (let i = 0; i < script_attrs.length; i++) {\n",
              "        toinsert[toinsert.length - 1].firstChild.setAttribute(script_attrs[i].name, script_attrs[i].value);\n",
              "        toinsert[toinsert.length - 1].firstChild.textContent = bk_div.children[0].textContent\n",
              "      }\n",
              "      // store reference to server id on output_area\n",
              "      output_area._bokeh_server_id = output.metadata[EXEC_MIME_TYPE][\"server_id\"];\n",
              "    }\n",
              "  }\n",
              "\n",
              "  function register_renderer(events, OutputArea) {\n",
              "\n",
              "    function append_mime(data, metadata, element) {\n",
              "      // create a DOM node to render to\n",
              "      const toinsert = this.create_output_subarea(\n",
              "        metadata,\n",
              "        CLASS_NAME,\n",
              "        EXEC_MIME_TYPE\n",
              "      );\n",
              "      this.keyboard_manager.register_events(toinsert);\n",
              "      // Render to node\n",
              "      const props = {data: data, metadata: metadata[EXEC_MIME_TYPE]};\n",
              "      render(props, toinsert[toinsert.length - 1]);\n",
              "      element.append(toinsert);\n",
              "      return toinsert\n",
              "    }\n",
              "\n",
              "    /* Handle when an output is cleared or removed */\n",
              "    events.on('clear_output.CodeCell', handleClearOutput);\n",
              "    events.on('delete.Cell', handleClearOutput);\n",
              "\n",
              "    /* Handle when a new output is added */\n",
              "    events.on('output_added.OutputArea', handleAddOutput);\n",
              "\n",
              "    /**\n",
              "     * Register the mime type and append_mime function with output_area\n",
              "     */\n",
              "    OutputArea.prototype.register_mime_type(EXEC_MIME_TYPE, append_mime, {\n",
              "      /* Is output safe? */\n",
              "      safe: true,\n",
              "      /* Index of renderer in `output_area.display_order` */\n",
              "      index: 0\n",
              "    });\n",
              "  }\n",
              "\n",
              "  // register the mime type if in Jupyter Notebook environment and previously unregistered\n",
              "  if (root.Jupyter !== undefined) {\n",
              "    const events = require('base/js/events');\n",
              "    const OutputArea = require('notebook/js/outputarea').OutputArea;\n",
              "\n",
              "    if (OutputArea.prototype.mime_types().indexOf(EXEC_MIME_TYPE) == -1) {\n",
              "      register_renderer(events, OutputArea);\n",
              "    }\n",
              "  }\n",
              "  if (typeof (root._bokeh_timeout) === \"undefined\" || force === true) {\n",
              "    root._bokeh_timeout = Date.now() + 5000;\n",
              "    root._bokeh_failed_load = false;\n",
              "  }\n",
              "\n",
              "  const NB_LOAD_WARNING = {'data': {'text/html':\n",
              "     \"<div style='background-color: #fdd'>\\n\"+\n",
              "     \"<p>\\n\"+\n",
              "     \"BokehJS does not appear to have successfully loaded. If loading BokehJS from CDN, this \\n\"+\n",
              "     \"may be due to a slow or bad network connection. Possible fixes:\\n\"+\n",
              "     \"</p>\\n\"+\n",
              "     \"<ul>\\n\"+\n",
              "     \"<li>re-rerun `output_notebook()` to attempt to load from CDN again, or</li>\\n\"+\n",
              "     \"<li>use INLINE resources instead, as so:</li>\\n\"+\n",
              "     \"</ul>\\n\"+\n",
              "     \"<code>\\n\"+\n",
              "     \"from bokeh.resources import INLINE\\n\"+\n",
              "     \"output_notebook(resources=INLINE)\\n\"+\n",
              "     \"</code>\\n\"+\n",
              "     \"</div>\"}};\n",
              "\n",
              "  function display_loaded(error = null) {\n",
              "    const el = document.getElementById(null);\n",
              "    if (el != null) {\n",
              "      const html = (() => {\n",
              "        if (typeof root.Bokeh === \"undefined\") {\n",
              "          if (error == null) {\n",
              "            return \"BokehJS is loading ...\";\n",
              "          } else {\n",
              "            return \"BokehJS failed to load.\";\n",
              "          }\n",
              "        } else {\n",
              "          const prefix = `BokehJS ${root.Bokeh.version}`;\n",
              "          if (error == null) {\n",
              "            return `${prefix} successfully loaded.`;\n",
              "          } else {\n",
              "            return `${prefix} <b>encountered errors</b> while loading and may not function as expected.`;\n",
              "          }\n",
              "        }\n",
              "      })();\n",
              "      el.innerHTML = html;\n",
              "\n",
              "      if (error != null) {\n",
              "        const wrapper = document.createElement(\"div\");\n",
              "        wrapper.style.overflow = \"auto\";\n",
              "        wrapper.style.height = \"5em\";\n",
              "        wrapper.style.resize = \"vertical\";\n",
              "        const content = document.createElement(\"div\");\n",
              "        content.style.fontFamily = \"monospace\";\n",
              "        content.style.whiteSpace = \"pre-wrap\";\n",
              "        content.style.backgroundColor = \"rgb(255, 221, 221)\";\n",
              "        content.textContent = error.stack ?? error.toString();\n",
              "        wrapper.append(content);\n",
              "        el.append(wrapper);\n",
              "      }\n",
              "    } else if (Date.now() < root._bokeh_timeout) {\n",
              "      setTimeout(() => display_loaded(error), 100);\n",
              "    }\n",
              "  }\n",
              "\n",
              "  function run_callbacks() {\n",
              "    try {\n",
              "      root._bokeh_onload_callbacks.forEach(function(callback) {\n",
              "        if (callback != null)\n",
              "          callback();\n",
              "      });\n",
              "    } finally {\n",
              "      delete root._bokeh_onload_callbacks\n",
              "    }\n",
              "    console.debug(\"Bokeh: all callbacks have finished\");\n",
              "  }\n",
              "\n",
              "  function load_libs(css_urls, js_urls, callback) {\n",
              "    if (css_urls == null) css_urls = [];\n",
              "    if (js_urls == null) js_urls = [];\n",
              "\n",
              "    root._bokeh_onload_callbacks.push(callback);\n",
              "    if (root._bokeh_is_loading > 0) {\n",
              "      console.debug(\"Bokeh: BokehJS is being loaded, scheduling callback at\", now());\n",
              "      return null;\n",
              "    }\n",
              "    if (js_urls == null || js_urls.length === 0) {\n",
              "      run_callbacks();\n",
              "      return null;\n",
              "    }\n",
              "    console.debug(\"Bokeh: BokehJS not loaded, scheduling load and callback at\", now());\n",
              "    root._bokeh_is_loading = css_urls.length + js_urls.length;\n",
              "\n",
              "    function on_load() {\n",
              "      root._bokeh_is_loading--;\n",
              "      if (root._bokeh_is_loading === 0) {\n",
              "        console.debug(\"Bokeh: all BokehJS libraries/stylesheets loaded\");\n",
              "        run_callbacks()\n",
              "      }\n",
              "    }\n",
              "\n",
              "    function on_error(url) {\n",
              "      console.error(\"failed to load \" + url);\n",
              "    }\n",
              "\n",
              "    for (let i = 0; i < css_urls.length; i++) {\n",
              "      const url = css_urls[i];\n",
              "      const element = document.createElement(\"link\");\n",
              "      element.onload = on_load;\n",
              "      element.onerror = on_error.bind(null, url);\n",
              "      element.rel = \"stylesheet\";\n",
              "      element.type = \"text/css\";\n",
              "      element.href = url;\n",
              "      console.debug(\"Bokeh: injecting link tag for BokehJS stylesheet: \", url);\n",
              "      document.body.appendChild(element);\n",
              "    }\n",
              "\n",
              "    for (let i = 0; i < js_urls.length; i++) {\n",
              "      const url = js_urls[i];\n",
              "      const element = document.createElement('script');\n",
              "      element.onload = on_load;\n",
              "      element.onerror = on_error.bind(null, url);\n",
              "      element.async = false;\n",
              "      element.src = url;\n",
              "      console.debug(\"Bokeh: injecting script tag for BokehJS library: \", url);\n",
              "      document.head.appendChild(element);\n",
              "    }\n",
              "  };\n",
              "\n",
              "  function inject_raw_css(css) {\n",
              "    const element = document.createElement(\"style\");\n",
              "    element.appendChild(document.createTextNode(css));\n",
              "    document.body.appendChild(element);\n",
              "  }\n",
              "\n",
              "  const js_urls = [\"https://cdn.bokeh.org/bokeh/release/bokeh-3.6.1.min.js\", \"https://cdn.bokeh.org/bokeh/release/bokeh-gl-3.6.1.min.js\", \"https://cdn.bokeh.org/bokeh/release/bokeh-widgets-3.6.1.min.js\", \"https://cdn.bokeh.org/bokeh/release/bokeh-tables-3.6.1.min.js\", \"https://cdn.bokeh.org/bokeh/release/bokeh-mathjax-3.6.1.min.js\"];\n",
              "  const css_urls = [];\n",
              "\n",
              "  const inline_js = [    function(Bokeh) {\n",
              "      Bokeh.set_log_level(\"info\");\n",
              "    },\n",
              "function(Bokeh) {\n",
              "    }\n",
              "  ];\n",
              "\n",
              "  function run_inline_js() {\n",
              "    if (root.Bokeh !== undefined || force === true) {\n",
              "      try {\n",
              "            for (let i = 0; i < inline_js.length; i++) {\n",
              "      inline_js[i].call(root, root.Bokeh);\n",
              "    }\n",
              "\n",
              "      } catch (error) {throw error;\n",
              "      }} else if (Date.now() < root._bokeh_timeout) {\n",
              "      setTimeout(run_inline_js, 100);\n",
              "    } else if (!root._bokeh_failed_load) {\n",
              "      console.log(\"Bokeh: BokehJS failed to load within specified timeout.\");\n",
              "      root._bokeh_failed_load = true;\n",
              "    } else if (force !== true) {\n",
              "      const cell = $(document.getElementById(null)).parents('.cell').data().cell;\n",
              "      cell.output_area.append_execute_result(NB_LOAD_WARNING)\n",
              "    }\n",
              "  }\n",
              "\n",
              "  if (root._bokeh_is_loading === 0) {\n",
              "    console.debug(\"Bokeh: BokehJS loaded, going straight to plotting\");\n",
              "    run_inline_js();\n",
              "  } else {\n",
              "    load_libs(css_urls, js_urls, function() {\n",
              "      console.debug(\"Bokeh: BokehJS plotting callback run at\", now());\n",
              "      run_inline_js();\n",
              "    });\n",
              "  }\n",
              "}(window));"
            ],
            "application/vnd.bokehjs_load.v0+json": "'use strict';\n(function(root) {\n  function now() {\n    return new Date();\n  }\n\n  const force = true;\n\n  if (typeof root._bokeh_onload_callbacks === \"undefined\" || force === true) {\n    root._bokeh_onload_callbacks = [];\n    root._bokeh_is_loading = undefined;\n  }\n\n\n  if (typeof (root._bokeh_timeout) === \"undefined\" || force === true) {\n    root._bokeh_timeout = Date.now() + 5000;\n    root._bokeh_failed_load = false;\n  }\n\n  const NB_LOAD_WARNING = {'data': {'text/html':\n     \"<div style='background-color: #fdd'>\\n\"+\n     \"<p>\\n\"+\n     \"BokehJS does not appear to have successfully loaded. If loading BokehJS from CDN, this \\n\"+\n     \"may be due to a slow or bad network connection. Possible fixes:\\n\"+\n     \"</p>\\n\"+\n     \"<ul>\\n\"+\n     \"<li>re-rerun `output_notebook()` to attempt to load from CDN again, or</li>\\n\"+\n     \"<li>use INLINE resources instead, as so:</li>\\n\"+\n     \"</ul>\\n\"+\n     \"<code>\\n\"+\n     \"from bokeh.resources import INLINE\\n\"+\n     \"output_notebook(resources=INLINE)\\n\"+\n     \"</code>\\n\"+\n     \"</div>\"}};\n\n  function display_loaded(error = null) {\n    const el = document.getElementById(null);\n    if (el != null) {\n      const html = (() => {\n        if (typeof root.Bokeh === \"undefined\") {\n          if (error == null) {\n            return \"BokehJS is loading ...\";\n          } else {\n            return \"BokehJS failed to load.\";\n          }\n        } else {\n          const prefix = `BokehJS ${root.Bokeh.version}`;\n          if (error == null) {\n            return `${prefix} successfully loaded.`;\n          } else {\n            return `${prefix} <b>encountered errors</b> while loading and may not function as expected.`;\n          }\n        }\n      })();\n      el.innerHTML = html;\n\n      if (error != null) {\n        const wrapper = document.createElement(\"div\");\n        wrapper.style.overflow = \"auto\";\n        wrapper.style.height = \"5em\";\n        wrapper.style.resize = \"vertical\";\n        const content = document.createElement(\"div\");\n        content.style.fontFamily = \"monospace\";\n        content.style.whiteSpace = \"pre-wrap\";\n        content.style.backgroundColor = \"rgb(255, 221, 221)\";\n        content.textContent = error.stack ?? error.toString();\n        wrapper.append(content);\n        el.append(wrapper);\n      }\n    } else if (Date.now() < root._bokeh_timeout) {\n      setTimeout(() => display_loaded(error), 100);\n    }\n  }\n\n  function run_callbacks() {\n    try {\n      root._bokeh_onload_callbacks.forEach(function(callback) {\n        if (callback != null)\n          callback();\n      });\n    } finally {\n      delete root._bokeh_onload_callbacks\n    }\n    console.debug(\"Bokeh: all callbacks have finished\");\n  }\n\n  function load_libs(css_urls, js_urls, callback) {\n    if (css_urls == null) css_urls = [];\n    if (js_urls == null) js_urls = [];\n\n    root._bokeh_onload_callbacks.push(callback);\n    if (root._bokeh_is_loading > 0) {\n      console.debug(\"Bokeh: BokehJS is being loaded, scheduling callback at\", now());\n      return null;\n    }\n    if (js_urls == null || js_urls.length === 0) {\n      run_callbacks();\n      return null;\n    }\n    console.debug(\"Bokeh: BokehJS not loaded, scheduling load and callback at\", now());\n    root._bokeh_is_loading = css_urls.length + js_urls.length;\n\n    function on_load() {\n      root._bokeh_is_loading--;\n      if (root._bokeh_is_loading === 0) {\n        console.debug(\"Bokeh: all BokehJS libraries/stylesheets loaded\");\n        run_callbacks()\n      }\n    }\n\n    function on_error(url) {\n      console.error(\"failed to load \" + url);\n    }\n\n    for (let i = 0; i < css_urls.length; i++) {\n      const url = css_urls[i];\n      const element = document.createElement(\"link\");\n      element.onload = on_load;\n      element.onerror = on_error.bind(null, url);\n      element.rel = \"stylesheet\";\n      element.type = \"text/css\";\n      element.href = url;\n      console.debug(\"Bokeh: injecting link tag for BokehJS stylesheet: \", url);\n      document.body.appendChild(element);\n    }\n\n    for (let i = 0; i < js_urls.length; i++) {\n      const url = js_urls[i];\n      const element = document.createElement('script');\n      element.onload = on_load;\n      element.onerror = on_error.bind(null, url);\n      element.async = false;\n      element.src = url;\n      console.debug(\"Bokeh: injecting script tag for BokehJS library: \", url);\n      document.head.appendChild(element);\n    }\n  };\n\n  function inject_raw_css(css) {\n    const element = document.createElement(\"style\");\n    element.appendChild(document.createTextNode(css));\n    document.body.appendChild(element);\n  }\n\n  const js_urls = [\"https://cdn.bokeh.org/bokeh/release/bokeh-3.6.1.min.js\", \"https://cdn.bokeh.org/bokeh/release/bokeh-gl-3.6.1.min.js\", \"https://cdn.bokeh.org/bokeh/release/bokeh-widgets-3.6.1.min.js\", \"https://cdn.bokeh.org/bokeh/release/bokeh-tables-3.6.1.min.js\", \"https://cdn.bokeh.org/bokeh/release/bokeh-mathjax-3.6.1.min.js\"];\n  const css_urls = [];\n\n  const inline_js = [    function(Bokeh) {\n      Bokeh.set_log_level(\"info\");\n    },\nfunction(Bokeh) {\n    }\n  ];\n\n  function run_inline_js() {\n    if (root.Bokeh !== undefined || force === true) {\n      try {\n            for (let i = 0; i < inline_js.length; i++) {\n      inline_js[i].call(root, root.Bokeh);\n    }\n\n      } catch (error) {throw error;\n      }} else if (Date.now() < root._bokeh_timeout) {\n      setTimeout(run_inline_js, 100);\n    } else if (!root._bokeh_failed_load) {\n      console.log(\"Bokeh: BokehJS failed to load within specified timeout.\");\n      root._bokeh_failed_load = true;\n    } else if (force !== true) {\n      const cell = $(document.getElementById(null)).parents('.cell').data().cell;\n      cell.output_area.append_execute_result(NB_LOAD_WARNING)\n    }\n  }\n\n  if (root._bokeh_is_loading === 0) {\n    console.debug(\"Bokeh: BokehJS loaded, going straight to plotting\");\n    run_inline_js();\n  } else {\n    load_libs(css_urls, js_urls, function() {\n      console.debug(\"Bokeh: BokehJS plotting callback run at\", now());\n      run_inline_js();\n    });\n  }\n}(window));"
          },
          "metadata": {}
        },
        {
          "output_type": "display_data",
          "data": {
            "text/html": [
              "\n",
              "  <div id=\"de197606-c432-45ff-8398-b5cf7f0ca443\" data-root-id=\"p1001\" style=\"display: contents;\"></div>\n"
            ]
          },
          "metadata": {}
        },
        {
          "output_type": "display_data",
          "data": {
            "application/javascript": [
              "(function(root) {\n",
              "  function embed_document(root) {\n",
              "  const docs_json = {\"14c53c49-68a8-40c7-bfe7-01c775b515b1\":{\"version\":\"3.6.1\",\"title\":\"Bokeh Application\",\"roots\":[{\"type\":\"object\",\"name\":\"Figure\",\"id\":\"p1001\",\"attributes\":{\"x_range\":{\"type\":\"object\",\"name\":\"Range1d\",\"id\":\"p1010\",\"attributes\":{\"end\":11}},\"y_range\":{\"type\":\"object\",\"name\":\"Range1d\",\"id\":\"p1011\",\"attributes\":{\"end\":16}},\"x_scale\":{\"type\":\"object\",\"name\":\"LinearScale\",\"id\":\"p1012\"},\"y_scale\":{\"type\":\"object\",\"name\":\"LinearScale\",\"id\":\"p1013\"},\"title\":{\"type\":\"object\",\"name\":\"Title\",\"id\":\"p1008\"},\"renderers\":[{\"type\":\"object\",\"name\":\"GlyphRenderer\",\"id\":\"p1026\",\"attributes\":{\"data_source\":{\"type\":\"object\",\"name\":\"ColumnDataSource\",\"id\":\"p1014\",\"attributes\":{\"selected\":{\"type\":\"object\",\"name\":\"Selection\",\"id\":\"p1015\",\"attributes\":{\"indices\":[],\"line_indices\":[]}},\"selection_policy\":{\"type\":\"object\",\"name\":\"UnionRenderers\",\"id\":\"p1016\"},\"data\":{\"type\":\"map\",\"entries\":[[\"image\",[{\"type\":\"ndarray\",\"array\":{\"type\":\"bytes\",\"data\":\"QqiZOPaxGzZM1yU69JVWO0EdTTz7tYc9BH3cPpdRxj1d/+E8OW65PgAAAAAelnw3XsnONBFRqjeBEOY2w2TuOYa2gztOgm478rH/O8uKEjzpn3k/AAAAACsLyjlMAKM4w7NCOV6TajoDTag61GAUPCDJODv91jU8J63pPJ8Xcj8AAAAAb6Q0ObWhWTfBTiU5AB/2OOdiczov6RY8W2kgO2xyXz4LCEg91Es4PwAAAAA/cMU43HYVN70hATg1YKY3k+m/OTI0QDt4VhU7xZY6Pq+ZsDzmXUo/AAAAANLBjTdaf9M0X28eNqRdzzXTQG46dKMVPQ08Wz0LaRE+dwOZPiuy7z4AAAAAZn5XPG4rzToRJIo805brOkDSlTwyG789n13OPUStKj6hRxA/1nzEPAAAAAAy0A895R6fO7rg+TuUI2E7Z62/PLKbiz1zrag+q83VPjxk3D3z4DQ7AAAAAKMHWDiDQoo1P+atNIYLWzYptgc5hKONO0r2gDvBMk4/lku2PYPTxj0AAAAAfmVQOEsn3jVGGXI1txjmNhlukjmvIhw95hwNP+9r2T3+XbQ9CUZdPgAAAADw1Ow3LYsSNScxczYUtE439Ra/O6ezsz7WQAU/IqOWPBVarD3Oe6Q8AAAAAIb7Czq7yvI1qh/hOEKtDzjxDQ09GvnFPiazoj4Xexw+/cSzPdWmojwAAAAA4rG7OPU/HjfZ4Ww6tm4/Ov8/gz7UxOE+ZICNPu68Ijz7TGY8Qq4eOgAAAABmI2A5FSIMOHr8QTt8OfI65riSPp1E8D7uuTU+s0XGPKM5QDxcjNI8AAAAAD6ntjnAZ+A3DXCYO1uLGDsX7L8+DoSJPiGcgD7HkCs9CE4pPHiZOz0AAAAAFZvCOkq5+Di2/gg9UVcFPldewT66TE0+m0vBPanpwT3VJj09hreuPAAAAAA=\"},\"shape\":[16,11],\"dtype\":\"float32\",\"order\":\"little\"}]]]}}},\"view\":{\"type\":\"object\",\"name\":\"CDSView\",\"id\":\"p1027\",\"attributes\":{\"filter\":{\"type\":\"object\",\"name\":\"AllIndices\",\"id\":\"p1028\"}}},\"glyph\":{\"type\":\"object\",\"name\":\"Image\",\"id\":\"p1017\",\"attributes\":{\"x\":{\"type\":\"value\",\"value\":0},\"y\":{\"type\":\"value\",\"value\":0},\"dw\":{\"type\":\"value\",\"value\":11},\"dh\":{\"type\":\"value\",\"value\":16},\"image\":{\"type\":\"field\",\"field\":\"image\"},\"color_mapper\":{\"type\":\"object\",\"name\":\"LinearColorMapper\",\"id\":\"p1018\",\"attributes\":{\"palette\":[\"#000000\",\"#252525\",\"#525252\",\"#737373\",\"#969696\",\"#bdbdbd\",\"#d9d9d9\",\"#f0f0f0\",\"#ffffff\"]}}}},\"nonselection_glyph\":{\"type\":\"object\",\"name\":\"Image\",\"id\":\"p1020\",\"attributes\":{\"x\":{\"type\":\"value\",\"value\":0},\"y\":{\"type\":\"value\",\"value\":0},\"dw\":{\"type\":\"value\",\"value\":11},\"dh\":{\"type\":\"value\",\"value\":16},\"global_alpha\":{\"type\":\"value\",\"value\":0.1},\"image\":{\"type\":\"field\",\"field\":\"image\"},\"color_mapper\":{\"type\":\"object\",\"name\":\"LinearColorMapper\",\"id\":\"p1021\",\"attributes\":{\"palette\":[\"#000000\",\"#252525\",\"#525252\",\"#737373\",\"#969696\",\"#bdbdbd\",\"#d9d9d9\",\"#f0f0f0\",\"#ffffff\"]}}}},\"muted_glyph\":{\"type\":\"object\",\"name\":\"Image\",\"id\":\"p1023\",\"attributes\":{\"x\":{\"type\":\"value\",\"value\":0},\"y\":{\"type\":\"value\",\"value\":0},\"dw\":{\"type\":\"value\",\"value\":11},\"dh\":{\"type\":\"value\",\"value\":16},\"global_alpha\":{\"type\":\"value\",\"value\":0.2},\"image\":{\"type\":\"field\",\"field\":\"image\"},\"color_mapper\":{\"type\":\"object\",\"name\":\"LinearColorMapper\",\"id\":\"p1024\",\"attributes\":{\"palette\":[\"#000000\",\"#252525\",\"#525252\",\"#737373\",\"#969696\",\"#bdbdbd\",\"#d9d9d9\",\"#f0f0f0\",\"#ffffff\"]}}}}}}],\"toolbar\":{\"type\":\"object\",\"name\":\"Toolbar\",\"id\":\"p1009\"},\"left\":[{\"type\":\"object\",\"name\":\"LinearAxis\",\"id\":\"p1034\",\"attributes\":{\"ticker\":{\"type\":\"object\",\"name\":\"FixedTicker\",\"id\":\"p1038\",\"attributes\":{\"ticks\":{\"type\":\"ndarray\",\"array\":{\"type\":\"bytes\",\"data\":\"AAAAAAAA4D8AAAAAAAD4PwAAAAAAAARAAAAAAAAADEAAAAAAAAASQAAAAAAAABZAAAAAAAAAGkAAAAAAAAAeQAAAAAAAACFAAAAAAAAAI0AAAAAAAAAlQAAAAAAAACdAAAAAAAAAKUAAAAAAAAArQAAAAAAAAC1AAAAAAAAAL0A=\"},\"shape\":[16],\"dtype\":\"float64\",\"order\":\"little\"},\"minor_ticks\":[]}},\"formatter\":{\"type\":\"object\",\"name\":\"BasicTickFormatter\",\"id\":\"p1036\"},\"axis_label\":\"translation tokens\",\"major_label_overrides\":{\"type\":\"map\",\"entries\":[[0.5,\"_EOS_\"],[1.5,\".\"],[2.5,\"bathroom\"],[3.5,\"shared\"],[4.5,\"and\"],[5.5,\"lounge\"],[6.5,\"shared\"],[7.5,\"the\"],[8.5,\"at\"],[9.5,\"kitchen\"],[10.5,\"shared\"],[11.5,\"a\"],[12.5,\"use\"],[13.5,\"can\"],[14.5,\"guests\"],[15.5,\"_BOS_\"]]},\"major_label_policy\":{\"type\":\"object\",\"name\":\"AllLabels\",\"id\":\"p1037\"}}}],\"above\":[{\"type\":\"object\",\"name\":\"LinearAxis\",\"id\":\"p1029\",\"attributes\":{\"ticker\":{\"type\":\"object\",\"name\":\"FixedTicker\",\"id\":\"p1033\",\"attributes\":{\"ticks\":{\"type\":\"ndarray\",\"array\":{\"type\":\"bytes\",\"data\":\"AAAAAAAA4D8AAAAAAAD4PwAAAAAAAARAAAAAAAAADEAAAAAAAAASQAAAAAAAABZAAAAAAAAAGkAAAAAAAAAeQAAAAAAAACFAAAAAAAAAI0AAAAAAAAAlQA==\"},\"shape\":[11],\"dtype\":\"float64\",\"order\":\"little\"},\"minor_ticks\":[]}},\"formatter\":{\"type\":\"object\",\"name\":\"BasicTickFormatter\",\"id\":\"p1031\"},\"axis_label\":\"source tokens\",\"major_label_orientation\":45,\"major_label_overrides\":{\"type\":\"map\",\"entries\":[[0.5,\"_BOS_\"],[1.5,\"\\u0432\"],[2.5,\"\\u0440\\u0430\\u0441\\u043f\\u043e\\u0440\\u044f\\u0436\\u0435\\u043d\\u0438\\u0438\"],[3.5,\"\\u0433\\u043e\\u0441\\u0442\\u0435\\u0439\"],[4.5,\"\\u043e\\u0431\\u0449\\u0430\\u044f\"],[5.5,\"\\u043a\\u0443\\u0445\\u043d\\u044f\"],[6.5,\"\\u0438\"],[7.5,\"\\u043e\\u0431\\u0449\\u0430\\u044f\"],[8.5,\"\\u0433\\u043e\\u0441\\u0442\\u0438\\u043d\\u0430\\u044f\"],[9.5,\".\"],[10.5,\"_EOS_\"]]},\"major_label_policy\":{\"type\":\"object\",\"name\":\"AllLabels\",\"id\":\"p1032\"}}}]}}]}};\n",
              "  const render_items = [{\"docid\":\"14c53c49-68a8-40c7-bfe7-01c775b515b1\",\"roots\":{\"p1001\":\"de197606-c432-45ff-8398-b5cf7f0ca443\"},\"root_ids\":[\"p1001\"]}];\n",
              "  void root.Bokeh.embed.embed_items_notebook(docs_json, render_items);\n",
              "  }\n",
              "  if (root.Bokeh !== undefined) {\n",
              "    embed_document(root);\n",
              "  } else {\n",
              "    let attempts = 0;\n",
              "    const timer = setInterval(function(root) {\n",
              "      if (root.Bokeh !== undefined) {\n",
              "        clearInterval(timer);\n",
              "        embed_document(root);\n",
              "      } else {\n",
              "        attempts++;\n",
              "        if (attempts > 100) {\n",
              "          clearInterval(timer);\n",
              "          console.log(\"Bokeh: ERROR: Unable to run BokehJS code because BokehJS library is missing\");\n",
              "        }\n",
              "      }\n",
              "    }, 10, root)\n",
              "  }\n",
              "})(window);"
            ],
            "application/vnd.bokehjs_exec.v0+json": ""
          },
          "metadata": {
            "application/vnd.bokehjs_exec.v0+json": {
              "id": "p1001"
            }
          }
        },
        {
          "output_type": "display_data",
          "data": {
            "text/html": [
              "\n",
              "  <div id=\"d8b2fa9b-88d3-4a16-838f-34168238a0c2\" data-root-id=\"p1042\" style=\"display: contents;\"></div>\n"
            ]
          },
          "metadata": {}
        },
        {
          "output_type": "display_data",
          "data": {
            "application/javascript": [
              "(function(root) {\n",
              "  function embed_document(root) {\n",
              "  const docs_json = {\"8fa3e3cb-c30a-4379-9b92-93a8820f1d05\":{\"version\":\"3.6.1\",\"title\":\"Bokeh Application\",\"roots\":[{\"type\":\"object\",\"name\":\"Figure\",\"id\":\"p1042\",\"attributes\":{\"x_range\":{\"type\":\"object\",\"name\":\"Range1d\",\"id\":\"p1051\",\"attributes\":{\"end\":15}},\"y_range\":{\"type\":\"object\",\"name\":\"Range1d\",\"id\":\"p1052\",\"attributes\":{\"end\":15}},\"x_scale\":{\"type\":\"object\",\"name\":\"LinearScale\",\"id\":\"p1053\"},\"y_scale\":{\"type\":\"object\",\"name\":\"LinearScale\",\"id\":\"p1054\"},\"title\":{\"type\":\"object\",\"name\":\"Title\",\"id\":\"p1049\"},\"renderers\":[{\"type\":\"object\",\"name\":\"GlyphRenderer\",\"id\":\"p1067\",\"attributes\":{\"data_source\":{\"type\":\"object\",\"name\":\"ColumnDataSource\",\"id\":\"p1055\",\"attributes\":{\"selected\":{\"type\":\"object\",\"name\":\"Selection\",\"id\":\"p1056\",\"attributes\":{\"indices\":[],\"line_indices\":[]}},\"selection_policy\":{\"type\":\"object\",\"name\":\"UnionRenderers\",\"id\":\"p1057\"},\"data\":{\"type\":\"map\",\"entries\":[[\"image\",[{\"type\":\"ndarray\",\"array\":{\"type\":\"bytes\",\"data\":\"34tXOnZueznTPi42vDHiOGepBDuqSmg65H0fPP5u8Dt+cdA7sva9O/DPTjxTFnA66wY7PRJRaD8AAAAAeAiePbMsYzusfos7bAzOPIPFqj0vUoI8WoIhPoFSZDu1Vu87d5MDPLAT3zpYmSU8y0VWPfHMDD8AAAAAa9ZjO/p7gTrW6ZY4T5PrOXIuFzvXC8Q6ZgghPVuQ0TsouwI5cWitOn/sNzu/QVY8wRhIPC98aj8AAAAA2S0fOJuXvDeeF+k1TVCaN8ZcODjwoAs3Xte9Obw7IjlWFqA3cW63Ob/EFjsOPZ47cGluPWoDbz8AAAAA1bk8Ng3ApjNs6JUzjl+gNLqQVDY/DJI1LpX5N2sgJzYFc0Q3d7eSOFhPEzrFL74854nWPX0QXz8AAAAAQBufNfnK7jML9Gk0yb46NI2JWjgdzQA4MhW8OeTz3jiZd9M5QOh7O1USPj1x/Xo+kO0JP07eKD4AAAAAM4rHONd5KTfoOsE3MB+COccYzzrx5UA7fmcCPYDp+j1nw5880AgWPoKHGj8zvfY7ndyJPJhwPz0AAAAAilzKO43bkjqSvqI5jUihOel41Tu1q4A95sEjPtKi7T2sMmM7MBkHPqFVFT6sLpI9b1hTPhvKsz0AAAAAvpY+Oto53jhPcKs36it8OuyWKTo7Yw88+y6tPZWGeT5vyl48yUAXPTO9Dz+ANZo5mwe2OwHdLj0AAAAAtd8DO4krHDl3Kq05hT+bOg5B3ztb0I89VjO5PhhSxj2syTo9l8ILPnZnFj4xBes7bGqdPWeCQz0AAAAAq1HAOfHbDTj3foM2WMwmOXZNQjvuDfM8g+tAPwwRLj4SQHY8h2CFPCT1EDy8uN83F8YCOspEJjsAAAAAl/bhN6KhNjWg+fo0j9PmN1BGfzrpah87fVBMPR1ImTwvsIc8ZqDRPRmcZz5c4Gk+f4+VPrZWfz0AAAAAH4+sO/wLAjlr04Y5KZ4NO/LhlTz9HSo9fhB9PpCQiD6ALAM9DnjLPd32Fz6fp4M8ZHg3PWx1nz0AAAAAXrR/ONip0Tfe/m03aDddOSZjIjpzdkk8SPLiPQ3MQT9L42I9YhSMPLGbJj1SrmY6oD2SOg92dzsAAAAAqCgCO+tihjnAMiw6HxURO0aViz2ByeI9fRusPoYYnT7wf9Y8av5FPOCdhz3pWQs8C7Y4PKCxRz0AAAAA\"},\"shape\":[15,15],\"dtype\":\"float32\",\"order\":\"little\"}]]]}}},\"view\":{\"type\":\"object\",\"name\":\"CDSView\",\"id\":\"p1068\",\"attributes\":{\"filter\":{\"type\":\"object\",\"name\":\"AllIndices\",\"id\":\"p1069\"}}},\"glyph\":{\"type\":\"object\",\"name\":\"Image\",\"id\":\"p1058\",\"attributes\":{\"x\":{\"type\":\"value\",\"value\":0},\"y\":{\"type\":\"value\",\"value\":0},\"dw\":{\"type\":\"value\",\"value\":15},\"dh\":{\"type\":\"value\",\"value\":15},\"image\":{\"type\":\"field\",\"field\":\"image\"},\"color_mapper\":{\"type\":\"object\",\"name\":\"LinearColorMapper\",\"id\":\"p1059\",\"attributes\":{\"palette\":[\"#000000\",\"#252525\",\"#525252\",\"#737373\",\"#969696\",\"#bdbdbd\",\"#d9d9d9\",\"#f0f0f0\",\"#ffffff\"]}}}},\"nonselection_glyph\":{\"type\":\"object\",\"name\":\"Image\",\"id\":\"p1061\",\"attributes\":{\"x\":{\"type\":\"value\",\"value\":0},\"y\":{\"type\":\"value\",\"value\":0},\"dw\":{\"type\":\"value\",\"value\":15},\"dh\":{\"type\":\"value\",\"value\":15},\"global_alpha\":{\"type\":\"value\",\"value\":0.1},\"image\":{\"type\":\"field\",\"field\":\"image\"},\"color_mapper\":{\"type\":\"object\",\"name\":\"LinearColorMapper\",\"id\":\"p1062\",\"attributes\":{\"palette\":[\"#000000\",\"#252525\",\"#525252\",\"#737373\",\"#969696\",\"#bdbdbd\",\"#d9d9d9\",\"#f0f0f0\",\"#ffffff\"]}}}},\"muted_glyph\":{\"type\":\"object\",\"name\":\"Image\",\"id\":\"p1064\",\"attributes\":{\"x\":{\"type\":\"value\",\"value\":0},\"y\":{\"type\":\"value\",\"value\":0},\"dw\":{\"type\":\"value\",\"value\":15},\"dh\":{\"type\":\"value\",\"value\":15},\"global_alpha\":{\"type\":\"value\",\"value\":0.2},\"image\":{\"type\":\"field\",\"field\":\"image\"},\"color_mapper\":{\"type\":\"object\",\"name\":\"LinearColorMapper\",\"id\":\"p1065\",\"attributes\":{\"palette\":[\"#000000\",\"#252525\",\"#525252\",\"#737373\",\"#969696\",\"#bdbdbd\",\"#d9d9d9\",\"#f0f0f0\",\"#ffffff\"]}}}}}}],\"toolbar\":{\"type\":\"object\",\"name\":\"Toolbar\",\"id\":\"p1050\"},\"left\":[{\"type\":\"object\",\"name\":\"LinearAxis\",\"id\":\"p1075\",\"attributes\":{\"ticker\":{\"type\":\"object\",\"name\":\"FixedTicker\",\"id\":\"p1079\",\"attributes\":{\"ticks\":{\"type\":\"ndarray\",\"array\":{\"type\":\"bytes\",\"data\":\"AAAAAAAA4D8AAAAAAAD4PwAAAAAAAARAAAAAAAAADEAAAAAAAAASQAAAAAAAABZAAAAAAAAAGkAAAAAAAAAeQAAAAAAAACFAAAAAAAAAI0AAAAAAAAAlQAAAAAAAACdAAAAAAAAAKUAAAAAAAAArQAAAAAAAAC1A\"},\"shape\":[15],\"dtype\":\"float64\",\"order\":\"little\"},\"minor_ticks\":[]}},\"formatter\":{\"type\":\"object\",\"name\":\"BasicTickFormatter\",\"id\":\"p1077\"},\"axis_label\":\"translation tokens\",\"major_label_overrides\":{\"type\":\"map\",\"entries\":[[0.5,\"_EOS_\"],[1.5,\".\"],[2.5,\"parking\"],[3.5,\"free\"],[4.5,\"and\"],[5.5,\"rental\"],[6.5,\"bicycle\"],[7.5,\",\"],[8.5,\"free\"],[9.5,\"for\"],[10.5,\"available\"],[11.5,\"is\"],[12.5,\"hire\"],[13.5,\"bike\"],[14.5,\"_BOS_\"]]},\"major_label_policy\":{\"type\":\"object\",\"name\":\"AllLabels\",\"id\":\"p1078\"}}}],\"above\":[{\"type\":\"object\",\"name\":\"LinearAxis\",\"id\":\"p1070\",\"attributes\":{\"ticker\":{\"type\":\"object\",\"name\":\"FixedTicker\",\"id\":\"p1074\",\"attributes\":{\"ticks\":{\"type\":\"ndarray\",\"array\":{\"type\":\"bytes\",\"data\":\"AAAAAAAA4D8AAAAAAAD4PwAAAAAAAARAAAAAAAAADEAAAAAAAAASQAAAAAAAABZAAAAAAAAAGkAAAAAAAAAeQAAAAAAAACFAAAAAAAAAI0AAAAAAAAAlQAAAAAAAACdAAAAAAAAAKUAAAAAAAAArQAAAAAAAAC1A\"},\"shape\":[15],\"dtype\":\"float64\",\"order\":\"little\"},\"minor_ticks\":[]}},\"formatter\":{\"type\":\"object\",\"name\":\"BasicTickFormatter\",\"id\":\"p1072\"},\"axis_label\":\"source tokens\",\"major_label_orientation\":45,\"major_label_overrides\":{\"type\":\"map\",\"entries\":[[0.5,\"_BOS_\"],[1.5,\"\\u043a\\u0440\\u043e\\u043c\\u0435\"],[2.5,\"\\u0442\\u043e\\u0433\\u043e\"],[3.5,\",\"],[4.5,\"\\u043f\\u0440\\u0435\\u0434\\u043e\\u0441\\u0442\\u0430\\u0432\\u043b\\u044f\\u0435\\u0442\\u0441\\u044f\"],[5.5,\"\\u043f\\u0440\\u043e\\u043a\\u0430\\u0442\"],[6.5,\"\\u0432\\u0435\\u043b\\u043e\\u0441\\u0438\\u043f\\u0435\\u0434\\u043e\\u0432\"],[7.5,\",\"],[8.5,\"\\u0443\\u0441\\u043b\\u0443\\u0433\\u0438\"],[9.5,\"\\u0442\\u0440\\u0430\\u043d\\u0441\\u0444\\u0435\\u0440\\u0430\"],[10.5,\"\\u0438\"],[11.5,\"\\u0431\\u0435\\u0441\\u043f\\u043b\\u0430\\u0442\\u043d\\u0430\\u044f\"],[12.5,\"\\u043f\\u0430\\u0440\\u043a\\u043e\\u0432\\u043a\\u0430\"],[13.5,\".\"],[14.5,\"_EOS_\"]]},\"major_label_policy\":{\"type\":\"object\",\"name\":\"AllLabels\",\"id\":\"p1073\"}}}]}}]}};\n",
              "  const render_items = [{\"docid\":\"8fa3e3cb-c30a-4379-9b92-93a8820f1d05\",\"roots\":{\"p1042\":\"d8b2fa9b-88d3-4a16-838f-34168238a0c2\"},\"root_ids\":[\"p1042\"]}];\n",
              "  void root.Bokeh.embed.embed_items_notebook(docs_json, render_items);\n",
              "  }\n",
              "  if (root.Bokeh !== undefined) {\n",
              "    embed_document(root);\n",
              "  } else {\n",
              "    let attempts = 0;\n",
              "    const timer = setInterval(function(root) {\n",
              "      if (root.Bokeh !== undefined) {\n",
              "        clearInterval(timer);\n",
              "        embed_document(root);\n",
              "      } else {\n",
              "        attempts++;\n",
              "        if (attempts > 100) {\n",
              "          clearInterval(timer);\n",
              "          console.log(\"Bokeh: ERROR: Unable to run BokehJS code because BokehJS library is missing\");\n",
              "        }\n",
              "      }\n",
              "    }, 10, root)\n",
              "  }\n",
              "})(window);"
            ],
            "application/vnd.bokehjs_exec.v0+json": ""
          },
          "metadata": {
            "application/vnd.bokehjs_exec.v0+json": {
              "id": "p1042"
            }
          }
        },
        {
          "output_type": "display_data",
          "data": {
            "text/html": [
              "\n",
              "  <div id=\"d6bb2181-b1f8-4a57-adb4-9f810b4cd67e\" data-root-id=\"p1083\" style=\"display: contents;\"></div>\n"
            ]
          },
          "metadata": {}
        },
        {
          "output_type": "display_data",
          "data": {
            "application/javascript": [
              "(function(root) {\n",
              "  function embed_document(root) {\n",
              "  const docs_json = {\"7a51ddf0-d5c9-4dae-92f8-063176119929\":{\"version\":\"3.6.1\",\"title\":\"Bokeh Application\",\"roots\":[{\"type\":\"object\",\"name\":\"Figure\",\"id\":\"p1083\",\"attributes\":{\"x_range\":{\"type\":\"object\",\"name\":\"Range1d\",\"id\":\"p1092\",\"attributes\":{\"end\":13}},\"y_range\":{\"type\":\"object\",\"name\":\"Range1d\",\"id\":\"p1093\",\"attributes\":{\"end\":11}},\"x_scale\":{\"type\":\"object\",\"name\":\"LinearScale\",\"id\":\"p1094\"},\"y_scale\":{\"type\":\"object\",\"name\":\"LinearScale\",\"id\":\"p1095\"},\"title\":{\"type\":\"object\",\"name\":\"Title\",\"id\":\"p1090\"},\"renderers\":[{\"type\":\"object\",\"name\":\"GlyphRenderer\",\"id\":\"p1108\",\"attributes\":{\"data_source\":{\"type\":\"object\",\"name\":\"ColumnDataSource\",\"id\":\"p1096\",\"attributes\":{\"selected\":{\"type\":\"object\",\"name\":\"Selection\",\"id\":\"p1097\",\"attributes\":{\"indices\":[],\"line_indices\":[]}},\"selection_policy\":{\"type\":\"object\",\"name\":\"UnionRenderers\",\"id\":\"p1098\"},\"data\":{\"type\":\"map\",\"entries\":[[\"image\",[{\"type\":\"ndarray\",\"array\":{\"type\":\"bytes\",\"data\":\"D6kZPiq59jxKbEo9gjJpPdZxGT3etr89Sa5oPJK3jjo2iRo809yAPMIuJD55YsM+AAAAAPOJ5z4Y+3Q++x0oPcV4nzyyGTg9niYePZXMHz18NTE84JaaO1YkrTwVgaM9fqASPAAAAABWAyE/wDhxPiTUwjxrH0M8FV2lPcxCJDxVXVU7qb7UOj9CmjluFyE6FseiOnj+ATsAAAAA/mhePkUhGj1xsBU+AQaDPWKufj3SsyI940GCPOLKGzuDzzI7rrUWPmhEgz7gGAw8AAAAACgGgTk1Xd43+GmhOuIyxDqjBd85B9eqOl21ajoB3404e6CzOSfVNjznfHs/dOnhOQAAAAC6X0c7b3gYOxsT4DuV+J075fXoOkxPSTtERG48potdO5NH/jn2XJQ++E4pPy6bDDwAAAAA3mgSOto2ezomCGc38IUePFjEjj0sn1s+erCUPYQkhzwm1Vg8OvLaPRLJUj3FR+M+AAAAAG+YTjjjlJo45t8nOTbfKTvbzlU7K7s4PfhAxD0mdC88DGZvOs0wbT43Og0/751tPQAAAAAqW4c7qDhGOzM3PDvu3Zo9QbtKPmAOAz5XdlY+th2APAHImj36KI88pB0EPvuhED4AAAAAlRuKO6xqiTsQSuo7846VPYghBT4q1k0+ectrPt+Y+T1VrBI9FLkrPEc8oDw6TCY+AAAAAOOh6je5eJg3C/cWOcshKDpEj5s854AEPpJ86T7HmpE98SZGPCZ/AT0zoYg+LYFWPAAAAAA=\"},\"shape\":[11,13],\"dtype\":\"float32\",\"order\":\"little\"}]]]}}},\"view\":{\"type\":\"object\",\"name\":\"CDSView\",\"id\":\"p1109\",\"attributes\":{\"filter\":{\"type\":\"object\",\"name\":\"AllIndices\",\"id\":\"p1110\"}}},\"glyph\":{\"type\":\"object\",\"name\":\"Image\",\"id\":\"p1099\",\"attributes\":{\"x\":{\"type\":\"value\",\"value\":0},\"y\":{\"type\":\"value\",\"value\":0},\"dw\":{\"type\":\"value\",\"value\":13},\"dh\":{\"type\":\"value\",\"value\":11},\"image\":{\"type\":\"field\",\"field\":\"image\"},\"color_mapper\":{\"type\":\"object\",\"name\":\"LinearColorMapper\",\"id\":\"p1100\",\"attributes\":{\"palette\":[\"#000000\",\"#252525\",\"#525252\",\"#737373\",\"#969696\",\"#bdbdbd\",\"#d9d9d9\",\"#f0f0f0\",\"#ffffff\"]}}}},\"nonselection_glyph\":{\"type\":\"object\",\"name\":\"Image\",\"id\":\"p1102\",\"attributes\":{\"x\":{\"type\":\"value\",\"value\":0},\"y\":{\"type\":\"value\",\"value\":0},\"dw\":{\"type\":\"value\",\"value\":13},\"dh\":{\"type\":\"value\",\"value\":11},\"global_alpha\":{\"type\":\"value\",\"value\":0.1},\"image\":{\"type\":\"field\",\"field\":\"image\"},\"color_mapper\":{\"type\":\"object\",\"name\":\"LinearColorMapper\",\"id\":\"p1103\",\"attributes\":{\"palette\":[\"#000000\",\"#252525\",\"#525252\",\"#737373\",\"#969696\",\"#bdbdbd\",\"#d9d9d9\",\"#f0f0f0\",\"#ffffff\"]}}}},\"muted_glyph\":{\"type\":\"object\",\"name\":\"Image\",\"id\":\"p1105\",\"attributes\":{\"x\":{\"type\":\"value\",\"value\":0},\"y\":{\"type\":\"value\",\"value\":0},\"dw\":{\"type\":\"value\",\"value\":13},\"dh\":{\"type\":\"value\",\"value\":11},\"global_alpha\":{\"type\":\"value\",\"value\":0.2},\"image\":{\"type\":\"field\",\"field\":\"image\"},\"color_mapper\":{\"type\":\"object\",\"name\":\"LinearColorMapper\",\"id\":\"p1106\",\"attributes\":{\"palette\":[\"#000000\",\"#252525\",\"#525252\",\"#737373\",\"#969696\",\"#bdbdbd\",\"#d9d9d9\",\"#f0f0f0\",\"#ffffff\"]}}}}}}],\"toolbar\":{\"type\":\"object\",\"name\":\"Toolbar\",\"id\":\"p1091\"},\"left\":[{\"type\":\"object\",\"name\":\"LinearAxis\",\"id\":\"p1116\",\"attributes\":{\"ticker\":{\"type\":\"object\",\"name\":\"FixedTicker\",\"id\":\"p1120\",\"attributes\":{\"ticks\":{\"type\":\"ndarray\",\"array\":{\"type\":\"bytes\",\"data\":\"AAAAAAAA4D8AAAAAAAD4PwAAAAAAAARAAAAAAAAADEAAAAAAAAASQAAAAAAAABZAAAAAAAAAGkAAAAAAAAAeQAAAAAAAACFAAAAAAAAAI0AAAAAAAAAlQA==\"},\"shape\":[11],\"dtype\":\"float64\",\"order\":\"little\"},\"minor_ticks\":[]}},\"formatter\":{\"type\":\"object\",\"name\":\"BasicTickFormatter\",\"id\":\"p1118\"},\"axis_label\":\"translation tokens\",\"major_label_overrides\":{\"type\":\"map\",\"entries\":[[0.5,\"_EOS_\"],[1.5,\".\"],[2.5,\"away\"],[3.5,\"km\"],[4.5,\"26\"],[5.5,\"is\"],[6.5,\"corfu\"],[7.5,\"of\"],[8.5,\"town\"],[9.5,\"the\"],[10.5,\"_BOS_\"]]},\"major_label_policy\":{\"type\":\"object\",\"name\":\"AllLabels\",\"id\":\"p1119\"}}}],\"above\":[{\"type\":\"object\",\"name\":\"LinearAxis\",\"id\":\"p1111\",\"attributes\":{\"ticker\":{\"type\":\"object\",\"name\":\"FixedTicker\",\"id\":\"p1115\",\"attributes\":{\"ticks\":{\"type\":\"ndarray\",\"array\":{\"type\":\"bytes\",\"data\":\"AAAAAAAA4D8AAAAAAAD4PwAAAAAAAARAAAAAAAAADEAAAAAAAAASQAAAAAAAABZAAAAAAAAAGkAAAAAAAAAeQAAAAAAAACFAAAAAAAAAI0AAAAAAAAAlQAAAAAAAACdAAAAAAAAAKUA=\"},\"shape\":[13],\"dtype\":\"float64\",\"order\":\"little\"},\"minor_ticks\":[]}},\"formatter\":{\"type\":\"object\",\"name\":\"BasicTickFormatter\",\"id\":\"p1113\"},\"axis_label\":\"source tokens\",\"major_label_orientation\":45,\"major_label_overrides\":{\"type\":\"map\",\"entries\":[[0.5,\"_BOS_\"],[1.5,\"\\u0440\\u0430\\u0441\\u0441\\u0442\\u043e\\u044f\\u043d\\u0438\\u0435\"],[2.5,\"\\u0434\\u043e\"],[3.5,\"\\u0433\\u043e\\u0440\\u043e\\u0434\\u0430\"],[4.5,\"\\u043a\\u0438@@\"],[5.5,\"\\u0441\\u0441\\u0438@@\"],[6.5,\"\\u043c@@\"],[7.5,\"\\u043c\\u0438\"],[8.5,\"\\u0441\\u043e\\u0441\\u0442\\u0430\\u0432\\u043b\\u044f\\u0435\\u0442\"],[9.5,\"26\"],[10.5,\"\\u043a\\u043c\"],[11.5,\".\"],[12.5,\"_EOS_\"]]},\"major_label_policy\":{\"type\":\"object\",\"name\":\"AllLabels\",\"id\":\"p1114\"}}}]}}]}};\n",
              "  const render_items = [{\"docid\":\"7a51ddf0-d5c9-4dae-92f8-063176119929\",\"roots\":{\"p1083\":\"d6bb2181-b1f8-4a57-adb4-9f810b4cd67e\"},\"root_ids\":[\"p1083\"]}];\n",
              "  void root.Bokeh.embed.embed_items_notebook(docs_json, render_items);\n",
              "  }\n",
              "  if (root.Bokeh !== undefined) {\n",
              "    embed_document(root);\n",
              "  } else {\n",
              "    let attempts = 0;\n",
              "    const timer = setInterval(function(root) {\n",
              "      if (root.Bokeh !== undefined) {\n",
              "        clearInterval(timer);\n",
              "        embed_document(root);\n",
              "      } else {\n",
              "        attempts++;\n",
              "        if (attempts > 100) {\n",
              "          clearInterval(timer);\n",
              "          console.log(\"Bokeh: ERROR: Unable to run BokehJS code because BokehJS library is missing\");\n",
              "        }\n",
              "      }\n",
              "    }, 10, root)\n",
              "  }\n",
              "})(window);"
            ],
            "application/vnd.bokehjs_exec.v0+json": ""
          },
          "metadata": {
            "application/vnd.bokehjs_exec.v0+json": {
              "id": "p1083"
            }
          }
        },
        {
          "output_type": "display_data",
          "data": {
            "text/html": [
              "\n",
              "  <div id=\"ac55edbc-6001-48d6-9fa3-7a312b32ddb2\" data-root-id=\"p1124\" style=\"display: contents;\"></div>\n"
            ]
          },
          "metadata": {}
        },
        {
          "output_type": "display_data",
          "data": {
            "application/javascript": [
              "(function(root) {\n",
              "  function embed_document(root) {\n",
              "  const docs_json = {\"bb2dc69c-4dc8-4ecf-866c-40d9383e70dd\":{\"version\":\"3.6.1\",\"title\":\"Bokeh Application\",\"roots\":[{\"type\":\"object\",\"name\":\"Figure\",\"id\":\"p1124\",\"attributes\":{\"x_range\":{\"type\":\"object\",\"name\":\"Range1d\",\"id\":\"p1133\",\"attributes\":{\"end\":32}},\"y_range\":{\"type\":\"object\",\"name\":\"Range1d\",\"id\":\"p1134\",\"attributes\":{\"end\":37}},\"x_scale\":{\"type\":\"object\",\"name\":\"LinearScale\",\"id\":\"p1135\"},\"y_scale\":{\"type\":\"object\",\"name\":\"LinearScale\",\"id\":\"p1136\"},\"title\":{\"type\":\"object\",\"name\":\"Title\",\"id\":\"p1131\"},\"renderers\":[{\"type\":\"object\",\"name\":\"GlyphRenderer\",\"id\":\"p1149\",\"attributes\":{\"data_source\":{\"type\":\"object\",\"name\":\"ColumnDataSource\",\"id\":\"p1137\",\"attributes\":{\"selected\":{\"type\":\"object\",\"name\":\"Selection\",\"id\":\"p1138\",\"attributes\":{\"indices\":[],\"line_indices\":[]}},\"selection_policy\":{\"type\":\"object\",\"name\":\"UnionRenderers\",\"id\":\"p1139\"},\"data\":{\"type\":\"map\",\"entries\":[[\"image\",[{\"type\":\"ndarray\",\"array\":{\"type\":\"bytes\",\"data\":\"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\"},\"shape\":[37,32],\"dtype\":\"float32\",\"order\":\"little\"}]]]}}},\"view\":{\"type\":\"object\",\"name\":\"CDSView\",\"id\":\"p1150\",\"attributes\":{\"filter\":{\"type\":\"object\",\"name\":\"AllIndices\",\"id\":\"p1151\"}}},\"glyph\":{\"type\":\"object\",\"name\":\"Image\",\"id\":\"p1140\",\"attributes\":{\"x\":{\"type\":\"value\",\"value\":0},\"y\":{\"type\":\"value\",\"value\":0},\"dw\":{\"type\":\"value\",\"value\":32},\"dh\":{\"type\":\"value\",\"value\":37},\"image\":{\"type\":\"field\",\"field\":\"image\"},\"color_mapper\":{\"type\":\"object\",\"name\":\"LinearColorMapper\",\"id\":\"p1141\",\"attributes\":{\"palette\":[\"#000000\",\"#252525\",\"#525252\",\"#737373\",\"#969696\",\"#bdbdbd\",\"#d9d9d9\",\"#f0f0f0\",\"#ffffff\"]}}}},\"nonselection_glyph\":{\"type\":\"object\",\"name\":\"Image\",\"id\":\"p1143\",\"attributes\":{\"x\":{\"type\":\"value\",\"value\":0},\"y\":{\"type\":\"value\",\"value\":0},\"dw\":{\"type\":\"value\",\"value\":32},\"dh\":{\"type\":\"value\",\"value\":37},\"global_alpha\":{\"type\":\"value\",\"value\":0.1},\"image\":{\"type\":\"field\",\"field\":\"image\"},\"color_mapper\":{\"type\":\"object\",\"name\":\"LinearColorMapper\",\"id\":\"p1144\",\"attributes\":{\"palette\":[\"#000000\",\"#252525\",\"#525252\",\"#737373\",\"#969696\",\"#bdbdbd\",\"#d9d9d9\",\"#f0f0f0\",\"#ffffff\"]}}}},\"muted_glyph\":{\"type\":\"object\",\"name\":\"Image\",\"id\":\"p1146\",\"attributes\":{\"x\":{\"type\":\"value\",\"value\":0},\"y\":{\"type\":\"value\",\"value\":0},\"dw\":{\"type\":\"value\",\"value\":32},\"dh\":{\"type\":\"value\",\"value\":37},\"global_alpha\":{\"type\":\"value\",\"value\":0.2},\"image\":{\"type\":\"field\",\"field\":\"image\"},\"color_mapper\":{\"type\":\"object\",\"name\":\"LinearColorMapper\",\"id\":\"p1147\",\"attributes\":{\"palette\":[\"#000000\",\"#252525\",\"#525252\",\"#737373\",\"#969696\",\"#bdbdbd\",\"#d9d9d9\",\"#f0f0f0\",\"#ffffff\"]}}}}}}],\"toolbar\":{\"type\":\"object\",\"name\":\"Toolbar\",\"id\":\"p1132\"},\"left\":[{\"type\":\"object\",\"name\":\"LinearAxis\",\"id\":\"p1157\",\"attributes\":{\"ticker\":{\"type\":\"object\",\"name\":\"FixedTicker\",\"id\":\"p1161\",\"attributes\":{\"ticks\":{\"type\":\"ndarray\",\"array\":{\"type\":\"bytes\",\"data\":\"AAAAAAAA4D8AAAAAAAD4PwAAAAAAAARAAAAAAAAADEAAAAAAAAASQAAAAAAAABZAAAAAAAAAGkAAAAAAAAAeQAAAAAAAACFAAAAAAAAAI0AAAAAAAAAlQAAAAAAAACdAAAAAAAAAKUAAAAAAAAArQAAAAAAAAC1AAAAAAAAAL0AAAAAAAIAwQAAAAAAAgDFAAAAAAACAMkAAAAAAAIAzQAAAAAAAgDRAAAAAAACANUAAAAAAAIA2QAAAAAAAgDdAAAAAAACAOEAAAAAAAIA5QAAAAAAAgDpAAAAAAACAO0AAAAAAAIA8QAAAAAAAgD1AAAAAAACAPkAAAAAAAIA/QAAAAAAAQEBAAAAAAADAQEAAAAAAAEBBQAAAAAAAwEFAAAAAAABAQkA=\"},\"shape\":[37],\"dtype\":\"float64\",\"order\":\"little\"},\"minor_ticks\":[]}},\"formatter\":{\"type\":\"object\",\"name\":\"BasicTickFormatter\",\"id\":\"p1159\"},\"axis_label\":\"translation tokens\",\"major_label_overrides\":{\"type\":\"map\",\"entries\":[[0.5,\"_EOS_\"],[1.5,\".\"],[2.5,\"terrace\"],[3.5,\"sun\"],[4.5,\"a\"],[5.5,\"and\"],[6.5,\"terrace\"],[7.5,\"sun\"],[8.5,\"a\"],[9.5,\",\"],[10.5,\"garden\"],[11.5,\"a\"],[12.5,\",\"],[13.5,\"garden\"],[14.5,\"a\"],[15.5,\",\"],[16.5,\"pool\"],[17.5,\"outdoor\"],[18.5,\"shared\"],[19.5,\"a\"],[20.5,\"offers\"],[21.5,\"hotel\"],[22.5,\"this\"],[23.5,\",\"],[24.5,\"beach\"],[25.5,\"copacabana\"],[26.5,\"of\"],[27.5,\"beach\"],[28.5,\"the\"],[29.5,\"from\"],[30.5,\"walk\"],[31.5,\"minute\"],[32.5,\"-\"],[33.5,\"5\"],[34.5,\"a\"],[35.5,\"located\"],[36.5,\"_BOS_\"]]},\"major_label_policy\":{\"type\":\"object\",\"name\":\"AllLabels\",\"id\":\"p1160\"}}}],\"above\":[{\"type\":\"object\",\"name\":\"LinearAxis\",\"id\":\"p1152\",\"attributes\":{\"ticker\":{\"type\":\"object\",\"name\":\"FixedTicker\",\"id\":\"p1156\",\"attributes\":{\"ticks\":{\"type\":\"ndarray\",\"array\":{\"type\":\"bytes\",\"data\":\"AAAAAAAA4D8AAAAAAAD4PwAAAAAAAARAAAAAAAAADEAAAAAAAAASQAAAAAAAABZAAAAAAAAAGkAAAAAAAAAeQAAAAAAAACFAAAAAAAAAI0AAAAAAAAAlQAAAAAAAACdAAAAAAAAAKUAAAAAAAAArQAAAAAAAAC1AAAAAAAAAL0AAAAAAAIAwQAAAAAAAgDFAAAAAAACAMkAAAAAAAIAzQAAAAAAAgDRAAAAAAACANUAAAAAAAIA2QAAAAAAAgDdAAAAAAACAOEAAAAAAAIA5QAAAAAAAgDpAAAAAAACAO0AAAAAAAIA8QAAAAAAAgD1AAAAAAACAPkAAAAAAAIA/QA==\"},\"shape\":[32],\"dtype\":\"float64\",\"order\":\"little\"},\"minor_ticks\":[]}},\"formatter\":{\"type\":\"object\",\"name\":\"BasicTickFormatter\",\"id\":\"p1154\"},\"axis_label\":\"source tokens\",\"major_label_orientation\":45,\"major_label_overrides\":{\"type\":\"map\",\"entries\":[[0.5,\"_BOS_\"],[1.5,\"\\u0430\\u043f\\u0430\\u0440\\u0442\\u0430\\u043c\\u0435\\u043d\\u0442\\u044b\"],[2.5,\"\\u0432\"],[3.5,\"\\u043f\\u0435\\u043d\\u0442@@\"],[4.5,\"\\u0445\\u0430\\u0443\\u0441\\u0435\"],[5.5,\"\\u0441\"],[6.5,\"\\u043e\\u0431\\u0449\\u0438\\u043c\"],[7.5,\"\\u043e\\u0442\\u043a\\u0440\\u044b\\u0442\\u044b\\u043c\"],[8.5,\"\\u0431\\u0430\\u0441\\u0441\\u0435\\u0439\\u043d\\u043e\\u043c\"],[9.5,\",\"],[10.5,\"\\u0441\\u0430\\u0434\\u043e\\u043c\"],[11.5,\",\"],[12.5,\"\\u043a\\u043e\\u043d\\u0434\\u0438\\u0446\\u0438\\u043e\\u043d\\u0435\\u0440\\u043e\\u043c\"],[13.5,\"\\u0438\"],[14.5,\"\\u0442\\u0435\\u0440\\u0440\\u0430\\u0441\\u043e\\u0439\"],[15.5,\"\\u0434\\u043b\\u044f\"],[16.5,\"\\u0437\\u0430\\u0433\\u0430\\u0440\\u0430\"],[17.5,\"\\u0440\\u0430\\u0441\\u043f\\u043e\\u043b\\u043e\\u0436\\u0435\\u043d\\u044b\"],[18.5,\"\\u0432\"],[19.5,\"5\"],[20.5,\"\\u043c\\u0438\\u043d\\u0443\\u0442\\u0430\\u0445\"],[21.5,\"\\u0445\\u043e\\u0434\\u044c\\u0431\\u044b\"],[22.5,\"\\u043e\\u0442\"],[23.5,\"\\u043f\\u043b\\u044f\\u0436\\u0430\"],[24.5,\"\\u043d\\u0430\"],[25.5,\"\\u043a\\u0443\\u0440\\u043e\\u0440\\u0442\\u0435\"],[26.5,\"\\u043a\\u0430@@\"],[27.5,\"\\u0431\\u043e\"],[28.5,\"-\"],[29.5,\"\\u0440\\u043e\\u0439\"],[30.5,\".\"],[31.5,\"_EOS_\"]]},\"major_label_policy\":{\"type\":\"object\",\"name\":\"AllLabels\",\"id\":\"p1155\"}}}]}}]}};\n",
              "  const render_items = [{\"docid\":\"bb2dc69c-4dc8-4ecf-866c-40d9383e70dd\",\"roots\":{\"p1124\":\"ac55edbc-6001-48d6-9fa3-7a312b32ddb2\"},\"root_ids\":[\"p1124\"]}];\n",
              "  void root.Bokeh.embed.embed_items_notebook(docs_json, render_items);\n",
              "  }\n",
              "  if (root.Bokeh !== undefined) {\n",
              "    embed_document(root);\n",
              "  } else {\n",
              "    let attempts = 0;\n",
              "    const timer = setInterval(function(root) {\n",
              "      if (root.Bokeh !== undefined) {\n",
              "        clearInterval(timer);\n",
              "        embed_document(root);\n",
              "      } else {\n",
              "        attempts++;\n",
              "        if (attempts > 100) {\n",
              "          clearInterval(timer);\n",
              "          console.log(\"Bokeh: ERROR: Unable to run BokehJS code because BokehJS library is missing\");\n",
              "        }\n",
              "      }\n",
              "    }, 10, root)\n",
              "  }\n",
              "})(window);"
            ],
            "application/vnd.bokehjs_exec.v0+json": ""
          },
          "metadata": {
            "application/vnd.bokehjs_exec.v0+json": {
              "id": "p1124"
            }
          }
        },
        {
          "output_type": "display_data",
          "data": {
            "text/html": [
              "\n",
              "  <div id=\"ff2ca779-2c61-494d-b46f-d66dd7fe4c6a\" data-root-id=\"p1165\" style=\"display: contents;\"></div>\n"
            ]
          },
          "metadata": {}
        },
        {
          "output_type": "display_data",
          "data": {
            "application/javascript": [
              "(function(root) {\n",
              "  function embed_document(root) {\n",
              "  const docs_json = {\"d13d7020-d540-491d-b4ed-3fa73eff176d\":{\"version\":\"3.6.1\",\"title\":\"Bokeh Application\",\"roots\":[{\"type\":\"object\",\"name\":\"Figure\",\"id\":\"p1165\",\"attributes\":{\"x_range\":{\"type\":\"object\",\"name\":\"Range1d\",\"id\":\"p1174\",\"attributes\":{\"end\":23}},\"y_range\":{\"type\":\"object\",\"name\":\"Range1d\",\"id\":\"p1175\",\"attributes\":{\"end\":26}},\"x_scale\":{\"type\":\"object\",\"name\":\"LinearScale\",\"id\":\"p1176\"},\"y_scale\":{\"type\":\"object\",\"name\":\"LinearScale\",\"id\":\"p1177\"},\"title\":{\"type\":\"object\",\"name\":\"Title\",\"id\":\"p1172\"},\"renderers\":[{\"type\":\"object\",\"name\":\"GlyphRenderer\",\"id\":\"p1190\",\"attributes\":{\"data_source\":{\"type\":\"object\",\"name\":\"ColumnDataSource\",\"id\":\"p1178\",\"attributes\":{\"selected\":{\"type\":\"object\",\"name\":\"Selection\",\"id\":\"p1179\",\"attributes\":{\"indices\":[],\"line_indices\":[]}},\"selection_policy\":{\"type\":\"object\",\"name\":\"UnionRenderers\",\"id\":\"p1180\"},\"data\":{\"type\":\"map\",\"entries\":[[\"image\",[{\"type\":\"ndarray\",\"array\":{\"type\":\"bytes\",\"data\":\"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\"},\"shape\":[26,23],\"dtype\":\"float32\",\"order\":\"little\"}]]]}}},\"view\":{\"type\":\"object\",\"name\":\"CDSView\",\"id\":\"p1191\",\"attributes\":{\"filter\":{\"type\":\"object\",\"name\":\"AllIndices\",\"id\":\"p1192\"}}},\"glyph\":{\"type\":\"object\",\"name\":\"Image\",\"id\":\"p1181\",\"attributes\":{\"x\":{\"type\":\"value\",\"value\":0},\"y\":{\"type\":\"value\",\"value\":0},\"dw\":{\"type\":\"value\",\"value\":23},\"dh\":{\"type\":\"value\",\"value\":26},\"image\":{\"type\":\"field\",\"field\":\"image\"},\"color_mapper\":{\"type\":\"object\",\"name\":\"LinearColorMapper\",\"id\":\"p1182\",\"attributes\":{\"palette\":[\"#000000\",\"#252525\",\"#525252\",\"#737373\",\"#969696\",\"#bdbdbd\",\"#d9d9d9\",\"#f0f0f0\",\"#ffffff\"]}}}},\"nonselection_glyph\":{\"type\":\"object\",\"name\":\"Image\",\"id\":\"p1184\",\"attributes\":{\"x\":{\"type\":\"value\",\"value\":0},\"y\":{\"type\":\"value\",\"value\":0},\"dw\":{\"type\":\"value\",\"value\":23},\"dh\":{\"type\":\"value\",\"value\":26},\"global_alpha\":{\"type\":\"value\",\"value\":0.1},\"image\":{\"type\":\"field\",\"field\":\"image\"},\"color_mapper\":{\"type\":\"object\",\"name\":\"LinearColorMapper\",\"id\":\"p1185\",\"attributes\":{\"palette\":[\"#000000\",\"#252525\",\"#525252\",\"#737373\",\"#969696\",\"#bdbdbd\",\"#d9d9d9\",\"#f0f0f0\",\"#ffffff\"]}}}},\"muted_glyph\":{\"type\":\"object\",\"name\":\"Image\",\"id\":\"p1187\",\"attributes\":{\"x\":{\"type\":\"value\",\"value\":0},\"y\":{\"type\":\"value\",\"value\":0},\"dw\":{\"type\":\"value\",\"value\":23},\"dh\":{\"type\":\"value\",\"value\":26},\"global_alpha\":{\"type\":\"value\",\"value\":0.2},\"image\":{\"type\":\"field\",\"field\":\"image\"},\"color_mapper\":{\"type\":\"object\",\"name\":\"LinearColorMapper\",\"id\":\"p1188\",\"attributes\":{\"palette\":[\"#000000\",\"#252525\",\"#525252\",\"#737373\",\"#969696\",\"#bdbdbd\",\"#d9d9d9\",\"#f0f0f0\",\"#ffffff\"]}}}}}}],\"toolbar\":{\"type\":\"object\",\"name\":\"Toolbar\",\"id\":\"p1173\"},\"left\":[{\"type\":\"object\",\"name\":\"LinearAxis\",\"id\":\"p1198\",\"attributes\":{\"ticker\":{\"type\":\"object\",\"name\":\"FixedTicker\",\"id\":\"p1202\",\"attributes\":{\"ticks\":{\"type\":\"ndarray\",\"array\":{\"type\":\"bytes\",\"data\":\"AAAAAAAA4D8AAAAAAAD4PwAAAAAAAARAAAAAAAAADEAAAAAAAAASQAAAAAAAABZAAAAAAAAAGkAAAAAAAAAeQAAAAAAAACFAAAAAAAAAI0AAAAAAAAAlQAAAAAAAACdAAAAAAAAAKUAAAAAAAAArQAAAAAAAAC1AAAAAAAAAL0AAAAAAAIAwQAAAAAAAgDFAAAAAAACAMkAAAAAAAIAzQAAAAAAAgDRAAAAAAACANUAAAAAAAIA2QAAAAAAAgDdAAAAAAACAOEAAAAAAAIA5QA==\"},\"shape\":[26],\"dtype\":\"float64\",\"order\":\"little\"},\"minor_ticks\":[]}},\"formatter\":{\"type\":\"object\",\"name\":\"BasicTickFormatter\",\"id\":\"p1200\"},\"axis_label\":\"translation tokens\",\"major_label_overrides\":{\"type\":\"map\",\"entries\":[[0.5,\"_EOS_\"],[1.5,\".\"],[2.5,\"7\"],[3.5,\"-\"],[4.5,\"5\"],[5.5,\"small\"],[6.5,\"the\"],[7.5,\"in\"],[8.5,\"relax\"],[9.5,\"can\"],[10.5,\"guests\"],[11.5,\"at\"],[12.5,\"apartments\"],[13.5,\",\"],[14.5,\"opera\"],[15.5,\"the\"],[16.5,\"from\"],[17.5,\"metres\"],[18.5,\"200\"],[19.5,\",\"],[20.5,\"area\"],[21.5,\"residential\"],[22.5,\"a\"],[23.5,\"in\"],[24.5,\"located\"],[25.5,\"_BOS_\"]]},\"major_label_policy\":{\"type\":\"object\",\"name\":\"AllLabels\",\"id\":\"p1201\"}}}],\"above\":[{\"type\":\"object\",\"name\":\"LinearAxis\",\"id\":\"p1193\",\"attributes\":{\"ticker\":{\"type\":\"object\",\"name\":\"FixedTicker\",\"id\":\"p1197\",\"attributes\":{\"ticks\":{\"type\":\"ndarray\",\"array\":{\"type\":\"bytes\",\"data\":\"AAAAAAAA4D8AAAAAAAD4PwAAAAAAAARAAAAAAAAADEAAAAAAAAASQAAAAAAAABZAAAAAAAAAGkAAAAAAAAAeQAAAAAAAACFAAAAAAAAAI0AAAAAAAAAlQAAAAAAAACdAAAAAAAAAKUAAAAAAAAArQAAAAAAAAC1AAAAAAAAAL0AAAAAAAIAwQAAAAAAAgDFAAAAAAACAMkAAAAAAAIAzQAAAAAAAgDRAAAAAAACANUAAAAAAAIA2QA==\"},\"shape\":[23],\"dtype\":\"float64\",\"order\":\"little\"},\"minor_ticks\":[]}},\"formatter\":{\"type\":\"object\",\"name\":\"BasicTickFormatter\",\"id\":\"p1195\"},\"axis_label\":\"source tokens\",\"major_label_orientation\":45,\"major_label_overrides\":{\"type\":\"map\",\"entries\":[[0.5,\"_BOS_\"],[1.5,\"\\u0430\\u043f\\u0430\\u0440\\u0442\\u0430\\u043c\\u0435\\u043d\\u0442\\u044b\"],[2.5,\"mo@@\"],[3.5,\"s@@\"],[4.5,\"co@@\"],[5.5,\"w\"],[6.5,\"point\"],[7.5,\"-\"],[8.5,\"loft\"],[9.5,\"red\"],[10.5,\"square\"],[11.5,\"\\u043d\\u0430\\u0445\\u043e\\u0434\\u044f\\u0442\\u0441\\u044f\"],[12.5,\"\\u0432\"],[13.5,\"\\u043c\\u043e\\u0441\\u043a\\u0432\\u0435\"],[14.5,\",\"],[15.5,\"\\u0432\"],[16.5,\"200\"],[17.5,\"\\u043c\\u0435\\u0442\\u0440\\u0430\\u0445\"],[18.5,\"\\u043e\\u0442\"],[19.5,\"\\u0431\\u043e\\u043b\\u044c\\u0448\\u043e\\u0433\\u043e\"],[20.5,\"\\u0442\\u0435\\u0430\\u0442\\u0440\\u0430\"],[21.5,\".\"],[22.5,\"_EOS_\"]]},\"major_label_policy\":{\"type\":\"object\",\"name\":\"AllLabels\",\"id\":\"p1196\"}}}]}}]}};\n",
              "  const render_items = [{\"docid\":\"d13d7020-d540-491d-b4ed-3fa73eff176d\",\"roots\":{\"p1165\":\"ff2ca779-2c61-494d-b46f-d66dd7fe4c6a\"},\"root_ids\":[\"p1165\"]}];\n",
              "  void root.Bokeh.embed.embed_items_notebook(docs_json, render_items);\n",
              "  }\n",
              "  if (root.Bokeh !== undefined) {\n",
              "    embed_document(root);\n",
              "  } else {\n",
              "    let attempts = 0;\n",
              "    const timer = setInterval(function(root) {\n",
              "      if (root.Bokeh !== undefined) {\n",
              "        clearInterval(timer);\n",
              "        embed_document(root);\n",
              "      } else {\n",
              "        attempts++;\n",
              "        if (attempts > 100) {\n",
              "          clearInterval(timer);\n",
              "          console.log(\"Bokeh: ERROR: Unable to run BokehJS code because BokehJS library is missing\");\n",
              "        }\n",
              "      }\n",
              "    }, 10, root)\n",
              "  }\n",
              "})(window);"
            ],
            "application/vnd.bokehjs_exec.v0+json": ""
          },
          "metadata": {
            "application/vnd.bokehjs_exec.v0+json": {
              "id": "p1165"
            }
          }
        }
      ],
      "source": [
        "for i in range(5):\n",
        "    draw_attention(inp[i], trans[i], attention_probs[i])\n",
        "\n",
        "# Does it look fine already? don't forget to save images for anytask!"
      ]
    },
    {
      "cell_type": "markdown",
      "metadata": {
        "id": "6DxIt9VtfV5P"
      },
      "source": [
        "__Note:__ If the attention maps are not iterpretable, try starting encoder from zeros (instead of dec_start), forcing model to use attention."
      ]
    },
    {
      "cell_type": "markdown",
      "metadata": {
        "id": "l-WX_-orOGT5"
      },
      "source": [
        "# Part 2. Named Entity Recognition\n",
        "Here we're gonna solve the problem of named entity recognition. Here's what it does in one picture:\n",
        "\n",
        "![nlp-task-named-entity-recognition.png](https://mobidev.biz/wp-content/uploads/2019/12/nlp-task-named-entity-recognition.png)\n",
        "\n",
        "For each word, in a sentence, your model should predict a named entity class: person, organization, location and so on\n",
        "\n",
        "In this part of assignment we will use a bit higher level DL interface, we won't write any loops and etc, but we will do some work around the data (and use LoRA for fine-tuning)"
      ]
    },
    {
      "cell_type": "markdown",
      "metadata": {
        "id": "z0802SPERrHA"
      },
      "source": [
        "## Dataset exploration (0.5 point)"
      ]
    },
    {
      "cell_type": "code",
      "execution_count": 31,
      "metadata": {
        "id": "USV5lSUV5cF5",
        "colab": {
          "base_uri": "https://localhost:8080/"
        },
        "outputId": "eba39764-afb5-4091-ff4c-12aa769c25aa"
      },
      "outputs": [
        {
          "output_type": "stream",
          "name": "stdout",
          "text": [
            "\u001b[?25l   \u001b[90m━━━━━━━━━━━━━━━━━━━━━━━━━━━━━━━━━━━━━━━━\u001b[0m \u001b[32m0.0/480.6 kB\u001b[0m \u001b[31m?\u001b[0m eta \u001b[36m-:--:--\u001b[0m\r\u001b[2K   \u001b[91m━━━━━━━━━━━━━━━━━━━━━━━━━━━━━━━━━━━━━━━\u001b[0m\u001b[90m╺\u001b[0m \u001b[32m471.0/480.6 kB\u001b[0m \u001b[31m21.1 MB/s\u001b[0m eta \u001b[36m0:00:01\u001b[0m\r\u001b[2K   \u001b[90m━━━━━━━━━━━━━━━━━━━━━━━━━━━━━━━━━━━━━━━━\u001b[0m \u001b[32m480.6/480.6 kB\u001b[0m \u001b[31m12.8 MB/s\u001b[0m eta \u001b[36m0:00:00\u001b[0m\n",
            "\u001b[?25h\u001b[?25l   \u001b[90m━━━━━━━━━━━━━━━━━━━━━━━━━━━━━━━━━━━━━━━━\u001b[0m \u001b[32m0.0/116.3 kB\u001b[0m \u001b[31m?\u001b[0m eta \u001b[36m-:--:--\u001b[0m\r\u001b[2K   \u001b[90m━━━━━━━━━━━━━━━━━━━━━━━━━━━━━━━━━━━━━━━━\u001b[0m \u001b[32m116.3/116.3 kB\u001b[0m \u001b[31m9.5 MB/s\u001b[0m eta \u001b[36m0:00:00\u001b[0m\n",
            "\u001b[?25h\u001b[?25l   \u001b[90m━━━━━━━━━━━━━━━━━━━━━━━━━━━━━━━━━━━━━━━━\u001b[0m \u001b[32m0.0/179.3 kB\u001b[0m \u001b[31m?\u001b[0m eta \u001b[36m-:--:--\u001b[0m\r\u001b[2K   \u001b[90m━━━━━━━━━━━━━━━━━━━━━━━━━━━━━━━━━━━━━━━━\u001b[0m \u001b[32m179.3/179.3 kB\u001b[0m \u001b[31m15.1 MB/s\u001b[0m eta \u001b[36m0:00:00\u001b[0m\n",
            "\u001b[?25h\u001b[?25l   \u001b[90m━━━━━━━━━━━━━━━━━━━━━━━━━━━━━━━━━━━━━━━━\u001b[0m \u001b[32m0.0/134.8 kB\u001b[0m \u001b[31m?\u001b[0m eta \u001b[36m-:--:--\u001b[0m\r\u001b[2K   \u001b[90m━━━━━━━━━━━━━━━━━━━━━━━━━━━━━━━━━━━━━━━━\u001b[0m \u001b[32m134.8/134.8 kB\u001b[0m \u001b[31m11.5 MB/s\u001b[0m eta \u001b[36m0:00:00\u001b[0m\n",
            "\u001b[?25h\u001b[?25l   \u001b[90m━━━━━━━━━━━━━━━━━━━━━━━━━━━━━━━━━━━━━━━━\u001b[0m \u001b[32m0.0/194.1 kB\u001b[0m \u001b[31m?\u001b[0m eta \u001b[36m-:--:--\u001b[0m\r\u001b[2K   \u001b[90m━━━━━━━━━━━━━━━━━━━━━━━━━━━━━━━━━━━━━━━━\u001b[0m \u001b[32m194.1/194.1 kB\u001b[0m \u001b[31m17.3 MB/s\u001b[0m eta \u001b[36m0:00:00\u001b[0m\n",
            "\u001b[?25h\u001b[31mERROR: pip's dependency resolver does not currently take into account all the packages that are installed. This behaviour is the source of the following dependency conflicts.\n",
            "gcsfs 2024.10.0 requires fsspec==2024.10.0, but you have fsspec 2024.9.0 which is incompatible.\u001b[0m\u001b[31m\n",
            "\u001b[0m"
          ]
        }
      ],
      "source": [
        "!pip install datasets -q"
      ]
    },
    {
      "cell_type": "markdown",
      "metadata": {
        "id": "aDrFJrRu_ecb"
      },
      "source": [
        "We will work with [multinerd](https://huggingface.co/datasets/Babelscape/multinerd) dataset from the 🤗 HuggingFace hub, specifically with its russian subset. NB: dataset was created automatically, not manualy, therefore it may contain some labeling mistakes obvious for people. It is based on wiki sentences and has 15 NER categories:\n",
        "- Person (PER)\n",
        "- Location (LOC)\n",
        "- Organization (ORG)\n",
        "- Animal (ANIM)\n",
        "- Biological entity (BIO)\n",
        "- Celestial Body (CEL)\n",
        "- Disease (DIS)\n",
        "- Event (EVE)\n",
        "- Food (FOOD)\n",
        "- Instrument (INST)\n",
        "- Media (MEDIA)\n",
        "- Plant (PLANT)\n",
        "- Mythological entity (MYTH)\n",
        "- Time (TIME)\n",
        "- Vehicle (VEHI)\n",
        "\n",
        "The format of all dataset follows popular [IOB format](https://en.wikipedia.org/wiki/Inside–outside–beginning_(tagging)). The B- prefix before a tag indicates that the tag is the beginning of a chunk, and an I- prefix before a tag indicates that the tag is inside a chunk. The B- tag is used only when a tag is followed by a tag of the same type without O tokens between them. An O tag indicates that a token belongs to no chunk. Therefore there we have 31 named entities.\n",
        "\n",
        "To load the dataset, we use the `load_dataset()` method from the 🤗 Datasets library (don't worry about three last progress bars)"
      ]
    },
    {
      "cell_type": "code",
      "execution_count": null,
      "metadata": {
        "id": "03b6NQ3C-34p"
      },
      "outputs": [],
      "source": [
        "from datasets import load_dataset\n",
        "\n",
        "raw_datasets = load_dataset(\"Babelscape/multinerd\", verification_mode=\"no_checks\")"
      ]
    },
    {
      "cell_type": "code",
      "execution_count": null,
      "metadata": {
        "id": "f4qEaHyM94Vb"
      },
      "outputs": [],
      "source": [
        "raw_datasets"
      ]
    },
    {
      "cell_type": "code",
      "execution_count": null,
      "metadata": {
        "id": "RwVMKBOpAUx5"
      },
      "outputs": [],
      "source": [
        "raw_datasets['train'][0]"
      ]
    },
    {
      "cell_type": "markdown",
      "metadata": {
        "id": "QmVmIxzuALeS"
      },
      "source": [
        "Filter dataset by language"
      ]
    },
    {
      "cell_type": "code",
      "execution_count": null,
      "metadata": {
        "id": "oh2lYHe599Lz"
      },
      "outputs": [],
      "source": [
        "for dataset_name in raw_datasets:\n",
        "    raw_datasets[dataset_name] = raw_datasets[dataset_name].filter(<YOUR CODE>)\n",
        "    raw_datasets[dataset_name] = raw_datasets[dataset_name].remove_columns('lang')"
      ]
    },
    {
      "cell_type": "code",
      "execution_count": null,
      "metadata": {
        "id": "f0myEtRHAfT2"
      },
      "outputs": [],
      "source": [
        "assert len(raw_datasets['train']) == 66240\n",
        "assert len(raw_datasets['validation']) == 8280\n",
        "assert len(raw_datasets['test']) == 8338"
      ]
    },
    {
      "cell_type": "code",
      "execution_count": null,
      "metadata": {
        "id": "t-0bQjN6-wNJ"
      },
      "outputs": [],
      "source": [
        "raw_datasets"
      ]
    },
    {
      "cell_type": "code",
      "execution_count": null,
      "metadata": {
        "id": "UD0w6fQf-Hoq"
      },
      "outputs": [],
      "source": [
        "raw_datasets['train'][0]"
      ]
    },
    {
      "cell_type": "markdown",
      "metadata": {
        "id": "If6OzzJ_F-B-"
      },
      "source": [
        "Let's see the `ner_tags` description"
      ]
    },
    {
      "cell_type": "code",
      "execution_count": null,
      "metadata": {
        "id": "Ec4RE7XV-eaf"
      },
      "outputs": [],
      "source": [
        "raw_datasets['train'].features['ner_tags']"
      ]
    },
    {
      "cell_type": "markdown",
      "metadata": {
        "id": "G8xSz1YHGD7e"
      },
      "source": [
        "It is just indices, so to make it readable we should apply [mapping](https://huggingface.co/datasets/Babelscape/multinerd#dataset-structure)"
      ]
    },
    {
      "cell_type": "code",
      "execution_count": null,
      "metadata": {
        "id": "oBS54EeC_dgV"
      },
      "outputs": [],
      "source": [
        "tag2idx = {\n",
        "    \"O\": 0,\n",
        "    \"B-PER\": 1,\n",
        "    \"I-PER\": 2,\n",
        "    \"B-ORG\": 3,\n",
        "    \"I-ORG\": 4,\n",
        "    \"B-LOC\": 5,\n",
        "    \"I-LOC\": 6,\n",
        "    \"B-ANIM\": 7,\n",
        "    \"I-ANIM\": 8,\n",
        "    \"B-BIO\": 9,\n",
        "    \"I-BIO\": 10,\n",
        "    \"B-CEL\": 11,\n",
        "    \"I-CEL\": 12,\n",
        "    \"B-DIS\": 13,\n",
        "    \"I-DIS\": 14,\n",
        "    \"B-EVE\": 15,\n",
        "    \"I-EVE\": 16,\n",
        "    \"B-FOOD\": 17,\n",
        "    \"I-FOOD\": 18,\n",
        "    \"B-INST\": 19,\n",
        "    \"I-INST\": 20,\n",
        "    \"B-MEDIA\": 21,\n",
        "    \"I-MEDIA\": 22,\n",
        "    \"B-MYTH\": 23,\n",
        "    \"I-MYTH\": 24,\n",
        "    \"B-PLANT\": 25,\n",
        "    \"I-PLANT\": 26,\n",
        "    \"B-TIME\": 27,\n",
        "    \"I-TIME\": 28,\n",
        "    \"B-VEHI\": 29,\n",
        "    \"I-VEHI\": 30,\n",
        "}\n",
        "\n",
        "idx2tag = {v: k for k, v in tag2idx.items()}"
      ]
    },
    {
      "cell_type": "markdown",
      "metadata": {
        "id": "UbfuvEFGKDMz"
      },
      "source": [
        "There is a fancy visualizer in `spacy` nlp library we can adapt for custom dataset."
      ]
    },
    {
      "cell_type": "code",
      "execution_count": null,
      "metadata": {
        "id": "ieNINSNnF7gz"
      },
      "outputs": [],
      "source": [
        "from spacy import displacy\n",
        "import typing as tp\n",
        "\n",
        "def ner_render(tokens: tp.Sequence[str], ner_tags: tp.Sequence[int], title: tp.Optional[str] = None, **kwargs):\n",
        "    pos = 0\n",
        "    ents = []\n",
        "    for word, tag_ in zip(tokens, ner_tags):\n",
        "        tag = idx2tag[tag_]\n",
        "        if tag.startswith('B'):\n",
        "            ents.append({\n",
        "                \"start\": pos,\n",
        "                \"end\": pos + len(word),\n",
        "                \"label\": tag.split(\"-\")[1]\n",
        "            })\n",
        "        elif tag.startswith('I'):\n",
        "            ents[-1][\"end\"] = pos + len(word)\n",
        "        pos += (len(word) + 1)\n",
        "    displacy.render({\n",
        "        \"text\": \" \".join(tokens),\n",
        "        \"ents\": ents,\n",
        "        \"title\": title\n",
        "    }, style=\"ent\", manual=True, jupyter=True)"
      ]
    },
    {
      "cell_type": "markdown",
      "metadata": {
        "id": "63L2CddIKpwk"
      },
      "source": [
        "Et voilà!"
      ]
    },
    {
      "cell_type": "code",
      "execution_count": null,
      "metadata": {
        "id": "P2SZBTTyHhpU"
      },
      "outputs": [],
      "source": [
        "for train_id in [50, 150, 300]:\n",
        "    ner_render(**raw_datasets['train'][train_id], title = f'multinerd train[{train_id}]')"
      ]
    },
    {
      "cell_type": "markdown",
      "metadata": {
        "id": "EZCVgJVdLAAA"
      },
      "source": [
        "Let's count each type of tags"
      ]
    },
    {
      "cell_type": "code",
      "execution_count": null,
      "metadata": {
        "id": "RnOn_He9IM1B"
      },
      "outputs": [],
      "source": [
        "from itertools import chain\n",
        "from collections import Counter\n",
        "\n",
        "tag_counter = Counter()\n",
        "\n",
        "# YOUR CODE HERE"
      ]
    },
    {
      "cell_type": "code",
      "execution_count": null,
      "metadata": {
        "id": "0_WTdnrLL1V2"
      },
      "outputs": [],
      "source": [
        "assert tag_counter[0] > (sum(tag_counter.values()) - tag_counter[0])"
      ]
    },
    {
      "cell_type": "code",
      "execution_count": null,
      "metadata": {
        "id": "996VhBiXLYqX"
      },
      "outputs": [],
      "source": [
        "for idx, cntr in sorted(tag_counter.items(), key=lambda kv: kv[1], reverse=True):\n",
        "    print(idx2tag[idx], cntr)"
      ]
    },
    {
      "cell_type": "markdown",
      "metadata": {
        "id": "zneCfRSMWJOQ"
      },
      "source": [
        "## Dataset preparation (3 points)"
      ]
    },
    {
      "cell_type": "markdown",
      "metadata": {
        "id": "-mJ3jldubhrU"
      },
      "source": [
        "It is time to tokenize out texts. We will use tokenizer of pretrained BERT. You can try [any model](https://huggingface.co/models) you want, but remember we will deal russian texts mostly (it is better if text splits in fewer amount of tokens)"
      ]
    },
    {
      "cell_type": "code",
      "execution_count": null,
      "metadata": {
        "id": "zPrcPZskWhIO"
      },
      "outputs": [],
      "source": [
        "from transformers import AutoTokenizer\n",
        "\n",
        "model_checkpoint = \"DeepPavlov/rubert-base-cased\"\n",
        "tokenizer = AutoTokenizer.from_pretrained(model_checkpoint)"
      ]
    },
    {
      "cell_type": "markdown",
      "metadata": {
        "id": "KVBehIcpcM-a"
      },
      "source": [
        "To tokenize a pre-tokenized input, we can use our `tokenizer` as usual and just add `is_split_into_words=True`:"
      ]
    },
    {
      "cell_type": "code",
      "execution_count": null,
      "metadata": {
        "id": "iwNGBKTVL68p"
      },
      "outputs": [],
      "source": [
        "example = raw_datasets[\"train\"][0]\n",
        "inputs = tokenizer(example[\"tokens\"], is_split_into_words=True)\n",
        "print(len(inputs.tokens()), inputs.tokens())\n",
        "print(len(example[\"ner_tags\"]), example[\"ner_tags\"])"
      ]
    },
    {
      "cell_type": "markdown",
      "metadata": {
        "id": "xFSn6ycHcKZI"
      },
      "source": [
        "As we can see, the tokenizer added the special tokens used by the model (`[CLS]` at the beginning and `[SEP]` at the end) and left most of the words untouched. The word `напоминавшие`, however, was tokenized into two subwords, `напомина` and `##вшие`. This introduces a mismatch between our inputs and the labels: the list of labels has only 19 elements, whereas our input now has 24 tokens. Accounting for the special tokens is easy (we know they are at the beginning and the end), but we also need to make sure we align all the labels with the proper words.\n",
        "\n",
        "To handle it we should know the relations between tokens and words."
      ]
    },
    {
      "cell_type": "code",
      "execution_count": null,
      "metadata": {
        "id": "9x6nU_WZarEF"
      },
      "outputs": [],
      "source": [
        "print(len(inputs.word_ids()), inputs.word_ids())"
      ]
    },
    {
      "cell_type": "markdown",
      "metadata": {
        "id": "I3YlyvjgdxpK"
      },
      "source": [
        "With a tiny bit of work, we can then expand our label list to match the tokens:\n",
        "- The first rule we’ll apply is that special tokens get a label of $-100$. This is because by default $-100$ is an index that is ignored in the loss function we will use (cross entropy)\n",
        "- Secondly, each token gets the same label as the token that started the word it’s inside, since they are part of the same entity\n",
        "- And the last case, for tokens inside a word but not at the beginning, we replace the B- with I- (since the token does not begin the entity)"
      ]
    },
    {
      "cell_type": "code",
      "execution_count": null,
      "metadata": {
        "id": "Du2CfqLNeZR4"
      },
      "outputs": [],
      "source": [
        "def align_labels_with_tokens(labels: tp.Sequence[int], word_ids: tp.Sequence[int]):\n",
        "    new_labels = []\n",
        "    current_word = None\n",
        "    for word_id in word_ids:\n",
        "        if word_id != current_word:  # start of a new word\n",
        "            # YOUR CODE HERE\n",
        "        elif word_id is None:        # special token\n",
        "            # YOUR CODE HERE\n",
        "        else:                        # same word as previous token\n",
        "            # YOUR CODE HERE\n",
        "        new_labels.append(label)\n",
        "\n",
        "    return new_labels"
      ]
    },
    {
      "cell_type": "code",
      "execution_count": null,
      "metadata": {
        "id": "KBD3v1fLfhOV"
      },
      "outputs": [],
      "source": [
        "for idx in [42, 4224, 4242]:\n",
        "    row = raw_datasets[\"train\"][idx]\n",
        "    labels = row[\"ner_tags\"]\n",
        "\n",
        "    inputs = tokenizer(row[\"tokens\"], is_split_into_words=True)\n",
        "    word_ids = inputs.word_ids()\n",
        "    aligned_labels = align_labels_with_tokens(labels, word_ids)\n",
        "    assert len(inputs.tokens()) == len(aligned_labels)\n",
        "    assert aligned_labels[0] == -100\n",
        "    assert aligned_labels[-1] == -100"
      ]
    },
    {
      "cell_type": "markdown",
      "metadata": {
        "id": "ZCP-inOpfTeF"
      },
      "source": [
        "Let’s try it out on our example sentence:"
      ]
    },
    {
      "cell_type": "code",
      "execution_count": null,
      "metadata": {
        "id": "84aIgiKSeznc"
      },
      "outputs": [],
      "source": [
        "labels = example[\"ner_tags\"]\n",
        "word_ids = tokenizer(example[\"tokens\"], is_split_into_words=True).word_ids()\n",
        "aligned_labels = align_labels_with_tokens(labels, word_ids)\n",
        "print(len(labels), labels)\n",
        "print(len(aligned_labels), aligned_labels)"
      ]
    },
    {
      "cell_type": "markdown",
      "metadata": {
        "id": "pwj34mNWigLF"
      },
      "source": [
        "To preprocess our whole dataset, we need to tokenize all the inputs and apply `align_labels_with_tokens()` on all the labels. To take advantage of the speed of our tokenizer, it’s best to tokenize lots of texts at the same time, so we’ll write a function that processes a list of examples and use the `Dataset.map()` method with the option `batched=True`. The only thing that is different from our previous example is that the `word_ids()` function needs to get the index of the example we want the word IDs of when the inputs to the tokenizer are lists of texts (or in our case, list of lists of words), so we add that too"
      ]
    },
    {
      "cell_type": "code",
      "execution_count": null,
      "metadata": {
        "id": "kWoNoTBKi4ih"
      },
      "outputs": [],
      "source": [
        "def tokenize_and_align_labels(rows: tp.Sequence[tp.Dict[str, tp.Any]]):\n",
        "    all_labels = rows[\"ner_tags\"]\n",
        "    tokenized_inputs = tokenizer(rows[\"tokens\"], is_split_into_words=True)\n",
        "\n",
        "    new_labels = []\n",
        "    for i, labels in enumerate(all_labels):\n",
        "        # YOUR CODE HERE\n",
        "\n",
        "    tokenized_inputs[\"labels\"] = new_labels\n",
        "    return tokenized_inputs"
      ]
    },
    {
      "cell_type": "markdown",
      "metadata": {
        "id": "8V9zHMM0itS4"
      },
      "source": [
        "We can now apply all that preprocessing in one go on the other splits of our dataset:"
      ]
    },
    {
      "cell_type": "code",
      "execution_count": null,
      "metadata": {
        "id": "MKbrDxUgjhLa"
      },
      "outputs": [],
      "source": [
        "tokenized_datasets = raw_datasets.map(\n",
        "    tokenize_and_align_labels,\n",
        "    batched=True,\n",
        "    remove_columns=raw_datasets[\"train\"].column_names,\n",
        ")"
      ]
    },
    {
      "cell_type": "markdown",
      "metadata": {
        "id": "yDr1z-gjkfmi"
      },
      "source": [
        "Now our datasets look like this"
      ]
    },
    {
      "cell_type": "code",
      "execution_count": null,
      "metadata": {
        "id": "BJpELpJSkJHJ"
      },
      "outputs": [],
      "source": [
        "tokenized_datasets"
      ]
    },
    {
      "cell_type": "markdown",
      "metadata": {
        "id": "v9bigJo7kt7J"
      },
      "source": [
        "Here:\n",
        "\n",
        "`input_ids` - indices of input sequence tokens in the vocabulary\n",
        "\n",
        "`token_type_ids` - segment token indices to indicate first and second portions of the inputs in NSP (Next Sentence Prediction) task. Indices are selected in [0, 1]: 0 corresponds to a sentence A token, 1 corresponds to a sentence B token. We don't need it today\n",
        "\n",
        "`attention_mask` - mask to avoid performing attention on padding token indices. Mask values selected in [0, 1]"
      ]
    },
    {
      "cell_type": "markdown",
      "metadata": {
        "id": "VPYNehoZu-o0"
      },
      "source": [
        "That's all with preprocessing. To be honest with you, it was the hardest part ;)"
      ]
    },
    {
      "cell_type": "markdown",
      "metadata": {
        "id": "2CfAwAz0lFC-"
      },
      "source": [
        "## Padding"
      ]
    },
    {
      "cell_type": "markdown",
      "metadata": {
        "id": "NgV8SuDSppKU"
      },
      "source": [
        "As our datasets are preprocessed we should create `data_collator` -- special function, which takes list of preprocessed sentences and return tensors (padding smaller sentences)"
      ]
    },
    {
      "cell_type": "code",
      "execution_count": null,
      "metadata": {
        "id": "0qU-2yuclELc"
      },
      "outputs": [],
      "source": [
        "from transformers import DataCollatorForTokenClassification\n",
        "\n",
        "data_collator = DataCollatorForTokenClassification(tokenizer=tokenizer)"
      ]
    },
    {
      "cell_type": "markdown",
      "metadata": {
        "id": "hHQt50UIqSLt"
      },
      "source": [
        "To test this on a few samples, we can just call it on a list of examples from our tokenized training set"
      ]
    },
    {
      "cell_type": "code",
      "execution_count": null,
      "metadata": {
        "id": "mmOSecpHqWeu"
      },
      "outputs": [],
      "source": [
        "batch = data_collator([tokenized_datasets[\"train\"][i] for i in range(4)])\n",
        "batch[\"labels\"]"
      ]
    },
    {
      "cell_type": "markdown",
      "metadata": {
        "id": "tj3gMayNqnsX"
      },
      "source": [
        "Let’s compare this to the labels in our dataset"
      ]
    },
    {
      "cell_type": "code",
      "execution_count": null,
      "metadata": {
        "id": "2rgjE48kqgWr"
      },
      "outputs": [],
      "source": [
        "for i in range(4):\n",
        "    print(tokenized_datasets[\"train\"][i][\"labels\"])"
      ]
    },
    {
      "cell_type": "markdown",
      "metadata": {
        "id": "tgWEyX65quw9"
      },
      "source": [
        "As we see the second and the fourth sententes were padded to the length of the first and the third senteces"
      ]
    },
    {
      "cell_type": "markdown",
      "metadata": {
        "id": "mbZR9TdvlGwE"
      },
      "source": [
        "## Metrics"
      ]
    },
    {
      "cell_type": "markdown",
      "metadata": {
        "id": "HM-PNvlPrXTo"
      },
      "source": [
        "We also should define metrics we want to evaluate to check quality of model. We will need to define a `compute_metrics()` function that takes the arrays of predictions and labels, and returns a dictionary with the metric names and values.\n",
        "\n",
        "The traditional framework used to evaluate token classification prediction is [seqeval](https://github.com/chakki-works/seqeval). To use this metric, we first need to install the seqeval library"
      ]
    },
    {
      "cell_type": "code",
      "execution_count": null,
      "metadata": {
        "id": "oDLw4ywMlIpA"
      },
      "outputs": [],
      "source": [
        "!pip install evaluate seqeval -q"
      ]
    },
    {
      "cell_type": "code",
      "execution_count": null,
      "metadata": {
        "id": "wi8dbM83sPYt"
      },
      "outputs": [],
      "source": [
        "import evaluate\n",
        "\n",
        "metric = evaluate.load(\"seqeval\")"
      ]
    },
    {
      "cell_type": "markdown",
      "metadata": {
        "id": "KlMfc23gstO_"
      },
      "source": [
        "This `compute_metrics()` function first takes the argmax of the logits to convert them to predictions (as usual, the logits and the probabilities are in the same order, so we don’t need to apply the softmax). Then we have to convert both labels and predictions from integers to strings (`seqeval` works with strings, not with indexes). We remove all the values where the label is $-100$, then pass the results to the `metric.compute()` method:"
      ]
    },
    {
      "cell_type": "code",
      "execution_count": null,
      "metadata": {
        "id": "Y4ToYRj7sRMR"
      },
      "outputs": [],
      "source": [
        "import numpy as np\n",
        "\n",
        "def compute_metrics(eval_preds):\n",
        "    logits, labels = eval_preds\n",
        "    predictions = np.argmax(logits, axis=-1)\n",
        "\n",
        "    # Remove ignored index (special tokens) and convert to labels\n",
        "    true_labels = [[idx2tag[l] for l in label if l != -100] for label in labels]\n",
        "    true_predictions = [\n",
        "        [idx2tag[p] for (p, l) in zip(prediction, label) if l != -100]\n",
        "        for prediction, label in zip(predictions, labels)\n",
        "    ]\n",
        "    all_metrics = metric.compute(predictions=true_predictions, references=true_labels)\n",
        "    return {\n",
        "        \"precision\": all_metrics[\"overall_precision\"],\n",
        "        \"recall\": all_metrics[\"overall_recall\"],\n",
        "        \"f1\": all_metrics[\"overall_f1\"],\n",
        "        \"accuracy\": all_metrics[\"overall_accuracy\"],\n",
        "        # all_metrics also contains metrics inside each of the labels, you can track them too\n",
        "    }"
      ]
    },
    {
      "cell_type": "markdown",
      "metadata": {
        "id": "LeeQG8f2YgyV"
      },
      "source": [
        "## BERT (0.5 - 3 points)"
      ]
    },
    {
      "cell_type": "markdown",
      "metadata": {
        "id": "qet1SJtBYlNE"
      },
      "source": [
        "The sequence labeling task is a degenerate case of the seq2seq task: we need to map a sequence of words to a sequence of labels (tags) of **the same length**.\n",
        "\n",
        "In case of BERT we want to get a vector of probabilities of labels for each input token. The simplest way to make it is just feed output token embeddings to Linear layer.\n",
        "\n",
        "`transformers` class `BertForTokenClassification` works just like this."
      ]
    },
    {
      "cell_type": "markdown",
      "metadata": {
        "id": "poL6fQ1wYpCZ"
      },
      "source": [
        "![image.png](https://d2l.ai/_images/bert-tagging.svg)\n",
        "\n",
        "Image from FastAI article: https://d2l.ai/chapter_natural-language-processing-applications/finetuning-bert.html"
      ]
    },
    {
      "cell_type": "code",
      "execution_count": null,
      "metadata": {
        "id": "zgsw0wE8YiVV"
      },
      "outputs": [],
      "source": [
        "from transformers import AutoModelForTokenClassification\n",
        "\n",
        "model = AutoModelForTokenClassification.from_pretrained(\n",
        "    model_checkpoint,  # we declared it earlier, with tokenizer\n",
        "    id2label=idx2tag,\n",
        "    label2id=tag2idx,\n",
        ")"
      ]
    },
    {
      "cell_type": "markdown",
      "metadata": {
        "id": "Z486ZMrilxiF"
      },
      "source": [
        "The last layer `classifier` was changed as we have different classes in our task"
      ]
    },
    {
      "cell_type": "code",
      "execution_count": null,
      "metadata": {
        "id": "kxcmLOGrlaMA"
      },
      "outputs": [],
      "source": [
        "model.config.num_labels"
      ]
    },
    {
      "cell_type": "markdown",
      "metadata": {
        "id": "T1eg_NB6miZW"
      },
      "source": [
        "As we would like to use HuggingFace training API now we should specify training argumets"
      ]
    },
    {
      "cell_type": "code",
      "execution_count": null,
      "metadata": {
        "id": "5F8mtGWYmWq3"
      },
      "outputs": [],
      "source": [
        "from transformers import TrainingArguments\n",
        "\n",
        "experiment_name = \"rubert-finetuned-ner\"\n",
        "args = TrainingArguments(\n",
        "    output_dir=experiment_name,\n",
        "    evaluation_strategy=\"epoch\",  # evaluate metrics every epoch\n",
        "    save_strategy=\"epoch\",  # save model checkpoints every epoch\n",
        "    learning_rate=2e-5,\n",
        "    num_train_epochs=3,\n",
        "    weight_decay=0.01,\n",
        "    report_to=\"wandb\",\n",
        "    logging_steps=100,\n",
        "    run_name=experiment_name,\n",
        ")"
      ]
    },
    {
      "cell_type": "markdown",
      "metadata": {
        "id": "c5yL8Z1tm-Wk"
      },
      "source": [
        "Once this done, let's begin the process (relax and drink a cup of tea)"
      ]
    },
    {
      "cell_type": "code",
      "execution_count": null,
      "metadata": {
        "id": "LZFBE2Ivm5_P"
      },
      "outputs": [],
      "source": [
        "from transformers import Trainer\n",
        "\n",
        "trainer = Trainer(\n",
        "    model=model,\n",
        "    args=args,\n",
        "    train_dataset=tokenized_datasets[\"train\"],\n",
        "    eval_dataset=tokenized_datasets[\"validation\"],\n",
        "    data_collator=data_collator,\n",
        "    compute_metrics=compute_metrics,\n",
        "    tokenizer=tokenizer,\n",
        ")\n",
        "trainer.train()\n",
        "wandb.finish()"
      ]
    },
    {
      "cell_type": "markdown",
      "metadata": {
        "id": "ZaIsJgfYt8g1"
      },
      "source": [
        "It is playing time! Try your best to achive highest metrics!\n",
        "\n",
        "It is graded task, supass `Overall F1`:\n",
        "- $0.88$ to get $0.5$ point\n",
        "- $0.90$ to get $1.5$ points\n",
        "- best result will be awarded with $3$ points"
      ]
    },
    {
      "cell_type": "markdown",
      "metadata": {
        "id": "_SshKkxD0VKR"
      },
      "source": [
        "## Custom LoRA (1 point)"
      ]
    },
    {
      "cell_type": "markdown",
      "metadata": {
        "id": "ps6fIjCj1LBN"
      },
      "source": [
        "Training some DL models is time-, GPU- and data- consuming, e.g. imagine fine-tuning LLM's... Instead, you can use low-rank adapters based on [LoRA paper](https://arxiv.org/pdf/2106.09685.pdf).\n",
        "\n",
        "The core idea is to add low-rank adapters __in parallel with attention projection matrices,__ like this:\n",
        "<center><img src=\"https://i.imgur.com/6bQLNiG.png\" width=240px></center>"
      ]
    },
    {
      "cell_type": "code",
      "execution_count": null,
      "metadata": {
        "id": "Ngr-KccyuDuX"
      },
      "outputs": [],
      "source": [
        "import torch\n",
        "import torch.nn as nn\n",
        "import torch.nn.functional as F\n",
        "\n",
        "class LoRALayer(nn.Module):\n",
        "    \"\"\"Wraps a linear layer with LoRA-like adapter. Wraps an existing OPT linear layer\"\"\"\n",
        "    def __init__(self, module: nn.Linear, rank: int):\n",
        "        super().__init__()\n",
        "        self.module = module\n",
        "        self.adapter_A = nn.Parameter(torch.empty(module.in_features, rank, device=module.weight.device))\n",
        "        nn.init.kaiming_uniform_(self.adapter_A, a=5 ** 0.5)\n",
        "        self.adapter_B = nn.Parameter(torch.zeros(rank, module.out_features, device=module.weight.device))\n",
        "\n",
        "    def forward(self, input):\n",
        "        # Apply self.module and LoRA adapter, return the sum (base module outputs + adapter outputs)\n",
        "        # YOUR CODE HERE\n",
        "        return ..."
      ]
    },
    {
      "cell_type": "code",
      "execution_count": null,
      "metadata": {
        "id": "FyMngbVw1wH6"
      },
      "outputs": [],
      "source": [
        "# test your implementation\n",
        "test_linear = nn.Linear(128, 128)\n",
        "test_linear.weight.data[...] = torch.eye(128)\n",
        "test_adapter = LoRALayer(test_linear, rank=8)\n",
        "\n",
        "assert torch.allclose(test_adapter(torch.ones(1, 1, 128)), test_linear.bias + 1), \"please check your forward pass\"\n",
        "\n",
        "test_adapter.adapter_A.data[...] = torch.linspace(0.1, -0.5, 128 * 8).view(128, 8)\n",
        "test_adapter.adapter_B.data[...] = torch.linspace(0.5, -0.1, 128 * 8).view(8, 128)\n",
        "test_linear.bias.data[...] = torch.linspace(1., -1., 128)\n",
        "\n",
        "dummy_loss = F.mse_loss(test_adapter(torch.ones(1, 128) / 128), torch.linspace(-1, 1, 128).unsqueeze(0))\n",
        "assert torch.allclose(dummy_loss, torch.tensor(1.3711389), rtol=0, atol=1e-4)\n",
        "dummy_loss.backward()\n",
        "assert all(w.grad is not None for w in [test_adapter.adapter_A, test_adapter.adapter_B]), \"some adapter weights have no grad\"\n",
        "assert torch.allclose(test_adapter.adapter_A.grad.sum(), torch.tensor(-0.60158), rtol=0, atol=1e-4), \"bad grad w.r.t. A\"\n",
        "assert torch.allclose(test_adapter.adapter_B.grad.sum(), torch.tensor(0.9931), rtol=0, atol=1e-4), \"bad grad w.r.t. B\"\n",
        "# note: bad grad means that your code is different from LoRA paper OR that your code is not autograd-friendly (e.g. no_grad)\n",
        "del dummy_loss, test_linear, test_adapter\n",
        "print(\"All tests passed!\")"
      ]
    },
    {
      "cell_type": "markdown",
      "metadata": {
        "id": "An2Mwlls1-KJ"
      },
      "source": [
        "Now let's apply it to our BERT!"
      ]
    },
    {
      "cell_type": "code",
      "execution_count": null,
      "metadata": {
        "id": "NZeyexcA39DH"
      },
      "outputs": [],
      "source": [
        "custom_lora_model = AutoModelForTokenClassification.from_pretrained(\n",
        "    model_checkpoint,\n",
        "    id2label=idx2tag,\n",
        "    label2id=tag2idx,\n",
        ")\n",
        "\n",
        "# freeze pretrained weights\n",
        "# YOUR CODE HERE"
      ]
    },
    {
      "cell_type": "code",
      "execution_count": null,
      "metadata": {
        "id": "anXECwUJ157V"
      },
      "outputs": [],
      "source": [
        "for name, module in custom_lora_model.named_modules():\n",
        "    if 'BertSdpaSelfAttention' in repr(type(module)):\n",
        "        module.query = LoRALayer(module.query, rank=8)\n",
        "        module.key = LoRALayer(module.key, rank=8)\n",
        "        module.value = LoRALayer(module.value, rank=8)\n",
        "\n",
        "assert sum(isinstance(module, LoRALayer) for module in custom_lora_model.modules()) == 36  # for DeepPavlov/rubert-base-cased"
      ]
    },
    {
      "cell_type": "code",
      "execution_count": null,
      "metadata": {
        "id": "6O50qDm34SIr"
      },
      "outputs": [],
      "source": [
        "experiment_name = \"rubert-custom-lora-ner\"\n",
        "args = TrainingArguments(\n",
        "    output_dir=experiment_name,\n",
        "    evaluation_strategy=\"epoch\",\n",
        "    save_strategy=\"epoch\",\n",
        "    learning_rate=2e-5,\n",
        "    num_train_epochs=3,\n",
        "    weight_decay=0.01,\n",
        "    report_to=\"wandb\",\n",
        "    logging_steps=100,\n",
        "    run_name=experiment_name,\n",
        ")"
      ]
    },
    {
      "cell_type": "code",
      "execution_count": null,
      "metadata": {
        "id": "i3NgfDV84Z1m"
      },
      "outputs": [],
      "source": [
        "trainer = Trainer(\n",
        "    model=custom_lora_model,\n",
        "    args=args,\n",
        "    train_dataset=tokenized_datasets[\"train\"],\n",
        "    eval_dataset=tokenized_datasets[\"validation\"],\n",
        "    data_collator=data_collator,\n",
        "    compute_metrics=compute_metrics,\n",
        "    tokenizer=tokenizer,\n",
        ")\n",
        "trainer.train()\n",
        "wandb.finish()"
      ]
    },
    {
      "cell_type": "markdown",
      "metadata": {
        "id": "wGPV03uwAqdx"
      },
      "source": [
        "Try to achieve at least `Overall F1` $= 0.8$"
      ]
    },
    {
      "cell_type": "markdown",
      "metadata": {
        "id": "esS69JBC5HmW"
      },
      "source": [
        "As we made LoRA layers only for attention projections, it may perform worse than fully finetuned model, but you can try to make LoRA for all linear layers. Also rank of LoRA plays crucial role while using small values.\n",
        "\n",
        "Also you can try bigger models to achieve higher scores, as with LoRA it costs you less GPU GB"
      ]
    },
    {
      "cell_type": "markdown",
      "metadata": {
        "id": "9qPGrXit9nGF"
      },
      "source": [
        "## PEFT LoRA (0.5 point)"
      ]
    },
    {
      "cell_type": "markdown",
      "metadata": {
        "id": "2cHZtdVu5XbG"
      },
      "source": [
        "In real life you don't want to create `LoRALayer` each time, so you will use libararies. One of the most popular is [`PEFT`](https://github.com/huggingface/peft) (Parameter Efficient Fine-Tuning)"
      ]
    },
    {
      "cell_type": "code",
      "execution_count": null,
      "metadata": {
        "id": "KFuJMxK65MIR"
      },
      "outputs": [],
      "source": [
        "!pip install peft -q"
      ]
    },
    {
      "cell_type": "markdown",
      "metadata": {
        "id": "FY6oPKpo_AsI"
      },
      "source": [
        "Now we just need to wrap our model and set LoRA arguments"
      ]
    },
    {
      "cell_type": "code",
      "execution_count": null,
      "metadata": {
        "id": "PfLYhWJv8PVf"
      },
      "outputs": [],
      "source": [
        "from peft import get_peft_model, LoraConfig, TaskType\n",
        "\n",
        "peft_config = LoraConfig(\n",
        "    task_type=TaskType.TOKEN_CLS,\n",
        "    inference_mode=False,\n",
        "    r=8,  # rank of LoRA\n",
        "    lora_alpha=32,  # scaling factor\n",
        "    lora_dropout=0.1,  # dropout is commonly used in many LoRA implementations\n",
        ")\n",
        "\n",
        "peft_lora_model = AutoModelForTokenClassification.from_pretrained(\n",
        "    model_checkpoint,\n",
        "    id2label=idx2tag,\n",
        "    label2id=tag2idx,\n",
        ")\n",
        "peft_lora_model = get_peft_model(model, peft_config)\n",
        "peft_lora_model.print_trainable_parameters()"
      ]
    },
    {
      "cell_type": "markdown",
      "metadata": {
        "id": "kP_yFCeDi5UZ"
      },
      "source": [
        "Only 0.18% of params is trainable -- much easier to optimize"
      ]
    },
    {
      "cell_type": "markdown",
      "metadata": {
        "id": "rkuGRSZ1_KrS"
      },
      "source": [
        "That's all! Now try to train it"
      ]
    },
    {
      "cell_type": "code",
      "execution_count": null,
      "metadata": {
        "id": "MHNHPsjn9u1Z"
      },
      "outputs": [],
      "source": [
        "experiment_name = \"rubert-peft-lora-ner\"\n",
        "args = TrainingArguments(\n",
        "    output_dir=experiment_name,\n",
        "    evaluation_strategy=\"epoch\",\n",
        "    save_strategy=\"epoch\",\n",
        "    learning_rate=2e-5,\n",
        "    num_train_epochs=3,\n",
        "    weight_decay=0.01,\n",
        "    report_to=\"wandb\",\n",
        "    logging_steps=100,\n",
        "    run_name=experiment_name,\n",
        ")\n",
        "\n",
        "trainer = Trainer(\n",
        "    model=peft_lora_model,\n",
        "    args=args,\n",
        "    train_dataset=tokenized_datasets[\"train\"],\n",
        "    eval_dataset=tokenized_datasets[\"validation\"],\n",
        "    data_collator=data_collator,\n",
        "    compute_metrics=compute_metrics,\n",
        "    tokenizer=tokenizer,\n",
        ")\n",
        "trainer.train()\n",
        "wandb.finish()"
      ]
    },
    {
      "cell_type": "markdown",
      "metadata": {
        "id": "UP82xbt_Ac2d"
      },
      "source": [
        "## Visualize results (1 point)"
      ]
    },
    {
      "cell_type": "markdown",
      "metadata": {
        "id": "GYmTWlq8bmr-"
      },
      "source": [
        "Compare predictions of your models with groud truth, to pretty visualizing try `ner_render()`. What type of mistakes do your models make?"
      ]
    },
    {
      "cell_type": "code",
      "execution_count": null,
      "metadata": {
        "id": "c1YVAtNKE19M"
      },
      "outputs": [],
      "source": [
        "# YOUR CODE HERE"
      ]
    }
  ],
  "metadata": {
    "accelerator": "GPU",
    "colab": {
      "gpuType": "T4",
      "provenance": [],
      "toc_visible": true
    },
    "kernelspec": {
      "display_name": "Python 3 (ipykernel)",
      "language": "python",
      "name": "python3"
    },
    "language_info": {
      "codemirror_mode": {
        "name": "ipython",
        "version": 3
      },
      "file_extension": ".py",
      "mimetype": "text/x-python",
      "name": "python",
      "nbconvert_exporter": "python",
      "pygments_lexer": "ipython3",
      "version": "3.9.19"
    }
  },
  "nbformat": 4,
  "nbformat_minor": 0
}